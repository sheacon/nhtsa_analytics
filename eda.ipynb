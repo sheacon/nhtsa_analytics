{
 "cells": [
  {
   "cell_type": "code",
   "execution_count": 1,
   "metadata": {},
   "outputs": [],
   "source": [
    "import requests\n",
    "import pandas as pd"
   ]
  },
  {
   "cell_type": "markdown",
   "metadata": {},
   "source": [
    "## Data"
   ]
  },
  {
   "cell_type": "code",
   "execution_count": 2,
   "metadata": {},
   "outputs": [
    {
     "name": "stdout",
     "output_type": "stream",
     "text": [
      "Complaints data saved to vehicle_complaints.parquet\n",
      "Recalls data saved to vehicle_recalls.parquet\n"
     ]
    }
   ],
   "source": [
    "def fetch_makes(model_year, issue_type):\n",
    "    base_url = \"https://api.nhtsa.gov/products/vehicle/\"\n",
    "    makes_url = f\"{base_url}makes?modelYear={model_year}&issueType={issue_type}\"\n",
    "    response = requests.get(makes_url)\n",
    "    makes_data = response.json()\n",
    "\n",
    "    if 'results' not in makes_data:\n",
    "        raise ValueError(\"Failed to fetch makes data.\")\n",
    "\n",
    "    return [make['make'] for make in makes_data['results']]\n",
    "\n",
    "def fetch_models(model_year, makes_list, issue_type):\n",
    "    base_url = \"https://api.nhtsa.gov/products/vehicle/\"\n",
    "    models = []\n",
    "    for make in makes_list:\n",
    "        models_url = f\"{base_url}models?modelYear={model_year}&make={make}&issueType={issue_type}\"\n",
    "        response = requests.get(models_url)\n",
    "        models_data = response.json()\n",
    "        if 'results' in models_data:\n",
    "            models.extend([{\n",
    "                'modelYear': model['modelYear'],\n",
    "                'make': model['make'],\n",
    "                'model': model['model']\n",
    "            } for model in models_data['results']])\n",
    "    return pd.DataFrame(models)\n",
    "\n",
    "def fetch_complaints(models_df):\n",
    "    complaints = []\n",
    "    for _, row in models_df.iterrows():\n",
    "        complaints_url = f\"https://api.nhtsa.gov/complaints/complaintsByVehicle?make={row['make']}&model={row['model']}&modelYear={row['modelYear']}\"\n",
    "        response = requests.get(complaints_url)\n",
    "        complaints_data = response.json()\n",
    "        if 'results' in complaints_data:\n",
    "            complaints.extend([{\n",
    "                'make': row['make'],\n",
    "                'model': row['model'],\n",
    "                'modelYear': row['modelYear'],\n",
    "                'odiNumber': complaint['odiNumber'],\n",
    "                'manufacturer': complaint['manufacturer'],\n",
    "                'crash': complaint['crash'],\n",
    "                'fire': complaint['fire'],\n",
    "                'numberOfInjuries': complaint['numberOfInjuries'],\n",
    "                'numberOfDeaths': complaint['numberOfDeaths'],\n",
    "                'dateOfIncident': complaint.get('dateOfIncident'),\n",
    "                'dateComplaintFiled': complaint.get('dateComplaintFiled'),\n",
    "                'vin': complaint.get('vin'),\n",
    "                'components': complaint.get('components'),\n",
    "                'summary': complaint.get('summary')\n",
    "            } for complaint in complaints_data['results']])\n",
    "    return pd.DataFrame(complaints)\n",
    "\n",
    "def fetch_recalls(models_df):\n",
    "    recalls = []\n",
    "    for _, row in models_df.iterrows():\n",
    "        recalls_url = f\"https://api.nhtsa.gov/recalls/recallsByVehicle?make={row['make']}&model={row['model']}&modelYear={row['modelYear']}\"\n",
    "        response = requests.get(recalls_url)\n",
    "        recalls_data = response.json()\n",
    "        if 'results' in recalls_data:\n",
    "            recalls.extend([{\n",
    "                'make': row['make'],\n",
    "                'model': row['model'],\n",
    "                'modelYear': row['modelYear'],\n",
    "                'NHTSACampaignNumber': recall['NHTSACampaignNumber'],\n",
    "                'manufacturer': recall['Manufacturer'],\n",
    "                'component': recall['Component'],\n",
    "                'summary': recall['Summary'],\n",
    "                'consequence': recall.get('Consequence'),\n",
    "                'remedy': recall.get('Remedy'),\n",
    "                'notes': recall.get('Notes'),\n",
    "                'reportDate': recall.get('ReportReceivedDate'),\n",
    "                'affectedVehicles': recall.get('AffectedVehicles')\n",
    "            } for recall in recalls_data['results']])\n",
    "    return pd.DataFrame(recalls)\n",
    "\n",
    "# Main logic to fetch and save data\n",
    "model_year = 2020\n",
    "\n",
    "# Complaints data\n",
    "makes_list_complaints = fetch_makes(model_year, issue_type='c')\n",
    "models_df_complaints = fetch_models(model_year, makes_list_complaints, issue_type='c')\n",
    "complaints_df = fetch_complaints(models_df_complaints)\n",
    "complaints_df.to_parquet(\"vehicle_complaints.parquet\", index=False)\n",
    "print(\"Complaints data saved to vehicle_complaints.parquet\")\n",
    "\n",
    "# Recalls data\n",
    "makes_list_recalls = fetch_makes(model_year, issue_type='r')\n",
    "models_df_recalls = fetch_models(model_year, makes_list_recalls, issue_type='r')\n",
    "recalls_df = fetch_recalls(models_df_recalls)\n",
    "recalls_df.to_parquet(\"vehicle_recalls.parquet\", index=False)\n",
    "print(\"Recalls data saved to vehicle_recalls.parquet\")"
   ]
  },
  {
   "cell_type": "code",
   "execution_count": 3,
   "metadata": {},
   "outputs": [
    {
     "name": "stdout",
     "output_type": "stream",
     "text": [
      "<class 'pandas.core.frame.DataFrame'>\n",
      "RangeIndex: 44519 entries, 0 to 44518\n",
      "Data columns (total 14 columns):\n",
      " #   Column              Non-Null Count  Dtype \n",
      "---  ------              --------------  ----- \n",
      " 0   make                44519 non-null  object\n",
      " 1   model               44519 non-null  object\n",
      " 2   modelYear           44519 non-null  object\n",
      " 3   odiNumber           44519 non-null  int64 \n",
      " 4   manufacturer        44519 non-null  object\n",
      " 5   crash               44519 non-null  bool  \n",
      " 6   fire                44519 non-null  bool  \n",
      " 7   numberOfInjuries    44519 non-null  int64 \n",
      " 8   numberOfDeaths      44519 non-null  int64 \n",
      " 9   dateOfIncident      44519 non-null  object\n",
      " 10  dateComplaintFiled  44519 non-null  object\n",
      " 11  vin                 44482 non-null  object\n",
      " 12  components          44519 non-null  object\n",
      " 13  summary             44519 non-null  object\n",
      "dtypes: bool(2), int64(3), object(9)\n",
      "memory usage: 4.2+ MB\n",
      "None\n"
     ]
    },
    {
     "data": {
      "text/html": [
       "<div>\n",
       "<style scoped>\n",
       "    .dataframe tbody tr th:only-of-type {\n",
       "        vertical-align: middle;\n",
       "    }\n",
       "\n",
       "    .dataframe tbody tr th {\n",
       "        vertical-align: top;\n",
       "    }\n",
       "\n",
       "    .dataframe thead th {\n",
       "        text-align: right;\n",
       "    }\n",
       "</style>\n",
       "<table border=\"1\" class=\"dataframe\">\n",
       "  <thead>\n",
       "    <tr style=\"text-align: right;\">\n",
       "      <th></th>\n",
       "      <th>make</th>\n",
       "      <th>model</th>\n",
       "      <th>modelYear</th>\n",
       "      <th>odiNumber</th>\n",
       "      <th>manufacturer</th>\n",
       "      <th>crash</th>\n",
       "      <th>fire</th>\n",
       "      <th>numberOfInjuries</th>\n",
       "      <th>numberOfDeaths</th>\n",
       "      <th>dateOfIncident</th>\n",
       "      <th>dateComplaintFiled</th>\n",
       "      <th>vin</th>\n",
       "      <th>components</th>\n",
       "      <th>summary</th>\n",
       "    </tr>\n",
       "  </thead>\n",
       "  <tbody>\n",
       "    <tr>\n",
       "      <th>22653</th>\n",
       "      <td>HONDA</td>\n",
       "      <td>PILOT</td>\n",
       "      <td>2020</td>\n",
       "      <td>11579758</td>\n",
       "      <td>Honda (American Honda Motor Co.)</td>\n",
       "      <td>False</td>\n",
       "      <td>False</td>\n",
       "      <td>0</td>\n",
       "      <td>0</td>\n",
       "      <td>12/15/2023</td>\n",
       "      <td>03/27/2024</td>\n",
       "      <td>5FNYF6H02LB</td>\n",
       "      <td>FUEL/PROPULSION SYSTEM</td>\n",
       "      <td>We received a recall notification in December ...</td>\n",
       "    </tr>\n",
       "    <tr>\n",
       "      <th>29888</th>\n",
       "      <td>LINCOLN</td>\n",
       "      <td>AVIATOR</td>\n",
       "      <td>2020</td>\n",
       "      <td>11538273</td>\n",
       "      <td>Ford Motor Company</td>\n",
       "      <td>False</td>\n",
       "      <td>False</td>\n",
       "      <td>0</td>\n",
       "      <td>0</td>\n",
       "      <td>08/12/2023</td>\n",
       "      <td>08/13/2023</td>\n",
       "      <td>5LM5J7WC4LG</td>\n",
       "      <td>POWER TRAIN</td>\n",
       "      <td>While traveling on the freeway the transmissio...</td>\n",
       "    </tr>\n",
       "    <tr>\n",
       "      <th>25014</th>\n",
       "      <td>HYUNDAI</td>\n",
       "      <td>KONA ELECTRIC</td>\n",
       "      <td>2020</td>\n",
       "      <td>11585896</td>\n",
       "      <td>Hyundai Motor America</td>\n",
       "      <td>False</td>\n",
       "      <td>False</td>\n",
       "      <td>0</td>\n",
       "      <td>0</td>\n",
       "      <td>04/09/2024</td>\n",
       "      <td>04/29/2024</td>\n",
       "      <td>KM8K33AG8LU</td>\n",
       "      <td>FORWARD COLLISION AVOIDANCE</td>\n",
       "      <td>I am concerned about the safety of my car and ...</td>\n",
       "    </tr>\n",
       "    <tr>\n",
       "      <th>28731</th>\n",
       "      <td>KIA</td>\n",
       "      <td>TELLURIDE</td>\n",
       "      <td>2020</td>\n",
       "      <td>11623273</td>\n",
       "      <td>Kia America, Inc.</td>\n",
       "      <td>False</td>\n",
       "      <td>False</td>\n",
       "      <td>0</td>\n",
       "      <td>0</td>\n",
       "      <td>03/12/2024</td>\n",
       "      <td>11/02/2024</td>\n",
       "      <td>5XYP3DHC3LG</td>\n",
       "      <td>SUSPENSION</td>\n",
       "      <td>Less than 40k miles and the rear suspension ha...</td>\n",
       "    </tr>\n",
       "    <tr>\n",
       "      <th>944</th>\n",
       "      <td>AUDI</td>\n",
       "      <td>Q8</td>\n",
       "      <td>2020</td>\n",
       "      <td>11578769</td>\n",
       "      <td>Volkswagen Group of America, Inc.</td>\n",
       "      <td>False</td>\n",
       "      <td>False</td>\n",
       "      <td>0</td>\n",
       "      <td>0</td>\n",
       "      <td>03/31/2023</td>\n",
       "      <td>03/21/2024</td>\n",
       "      <td>WA1EVAF16LD</td>\n",
       "      <td>UNKNOWN OR OTHER</td>\n",
       "      <td>The door locking on the Audi Q8 is consistentl...</td>\n",
       "    </tr>\n",
       "    <tr>\n",
       "      <th>27320</th>\n",
       "      <td>JEEP</td>\n",
       "      <td>GRAND CHEROKEE TRACKHAWK</td>\n",
       "      <td>2020</td>\n",
       "      <td>11612956</td>\n",
       "      <td>Chrysler (FCA US, LLC)</td>\n",
       "      <td>False</td>\n",
       "      <td>False</td>\n",
       "      <td>0</td>\n",
       "      <td>0</td>\n",
       "      <td>09/05/2024</td>\n",
       "      <td>09/06/2024</td>\n",
       "      <td>1C4RJFBG8LC</td>\n",
       "      <td>ELECTRICAL SYSTEM,FORWARD COLLISION AVOIDANCE,...</td>\n",
       "      <td>I am reporting significant safety issues with ...</td>\n",
       "    </tr>\n",
       "    <tr>\n",
       "      <th>28558</th>\n",
       "      <td>KIA</td>\n",
       "      <td>SOUL</td>\n",
       "      <td>2020</td>\n",
       "      <td>11475959</td>\n",
       "      <td>Kia America, Inc.</td>\n",
       "      <td>False</td>\n",
       "      <td>False</td>\n",
       "      <td>0</td>\n",
       "      <td>0</td>\n",
       "      <td>07/25/2022</td>\n",
       "      <td>07/26/2022</td>\n",
       "      <td>KNDJ23AU6L7</td>\n",
       "      <td>UNKNOWN OR OTHER</td>\n",
       "      <td>My car was stolen using a usb cord. The manufa...</td>\n",
       "    </tr>\n",
       "    <tr>\n",
       "      <th>2208</th>\n",
       "      <td>CHEVROLET</td>\n",
       "      <td>MALIBU</td>\n",
       "      <td>2020</td>\n",
       "      <td>11427291</td>\n",
       "      <td>General Motors, LLC</td>\n",
       "      <td>False</td>\n",
       "      <td>False</td>\n",
       "      <td>0</td>\n",
       "      <td>0</td>\n",
       "      <td>06/01/2021</td>\n",
       "      <td>07/31/2021</td>\n",
       "      <td>1G1ZG5ST1LF</td>\n",
       "      <td>VEHICLE SPEED CONTROL,SERVICE BRAKES,ENGINE</td>\n",
       "      <td>Speed reduced,  reduced engine power , hard br...</td>\n",
       "    </tr>\n",
       "    <tr>\n",
       "      <th>34645</th>\n",
       "      <td>RAM</td>\n",
       "      <td>1500 CLASSIC</td>\n",
       "      <td>2020</td>\n",
       "      <td>11315754</td>\n",
       "      <td>Chrysler (FCA US, LLC)</td>\n",
       "      <td>False</td>\n",
       "      <td>False</td>\n",
       "      <td>0</td>\n",
       "      <td>0</td>\n",
       "      <td>02/29/2020</td>\n",
       "      <td>03/03/2020</td>\n",
       "      <td>1C6SRFJT3LN</td>\n",
       "      <td>STRUCTURE</td>\n",
       "      <td>AFTER TAKING THE TRUCK THROUGH A CAR WASH AND ...</td>\n",
       "    </tr>\n",
       "    <tr>\n",
       "      <th>34273</th>\n",
       "      <td>RAM</td>\n",
       "      <td>1500 CLASSIC</td>\n",
       "      <td>2020</td>\n",
       "      <td>11623579</td>\n",
       "      <td>Chrysler (FCA US, LLC)</td>\n",
       "      <td>True</td>\n",
       "      <td>False</td>\n",
       "      <td>1</td>\n",
       "      <td>0</td>\n",
       "      <td>10/29/2024</td>\n",
       "      <td>11/05/2024</td>\n",
       "      <td>1C6RR6TTXLS</td>\n",
       "      <td>AIR BAGS</td>\n",
       "      <td>The contact owned a 2020 Ram 1500. The contact...</td>\n",
       "    </tr>\n",
       "  </tbody>\n",
       "</table>\n",
       "</div>"
      ],
      "text/plain": [
       "            make                     model modelYear  odiNumber  \\\n",
       "22653      HONDA                     PILOT      2020   11579758   \n",
       "29888    LINCOLN                   AVIATOR      2020   11538273   \n",
       "25014    HYUNDAI             KONA ELECTRIC      2020   11585896   \n",
       "28731        KIA                 TELLURIDE      2020   11623273   \n",
       "944         AUDI                        Q8      2020   11578769   \n",
       "27320       JEEP  GRAND CHEROKEE TRACKHAWK      2020   11612956   \n",
       "28558        KIA                      SOUL      2020   11475959   \n",
       "2208   CHEVROLET                    MALIBU      2020   11427291   \n",
       "34645        RAM              1500 CLASSIC      2020   11315754   \n",
       "34273        RAM              1500 CLASSIC      2020   11623579   \n",
       "\n",
       "                            manufacturer  crash   fire  numberOfInjuries  \\\n",
       "22653   Honda (American Honda Motor Co.)  False  False                 0   \n",
       "29888                 Ford Motor Company  False  False                 0   \n",
       "25014              Hyundai Motor America  False  False                 0   \n",
       "28731                  Kia America, Inc.  False  False                 0   \n",
       "944    Volkswagen Group of America, Inc.  False  False                 0   \n",
       "27320             Chrysler (FCA US, LLC)  False  False                 0   \n",
       "28558                  Kia America, Inc.  False  False                 0   \n",
       "2208                 General Motors, LLC  False  False                 0   \n",
       "34645             Chrysler (FCA US, LLC)  False  False                 0   \n",
       "34273             Chrysler (FCA US, LLC)   True  False                 1   \n",
       "\n",
       "       numberOfDeaths dateOfIncident dateComplaintFiled          vin  \\\n",
       "22653               0     12/15/2023         03/27/2024  5FNYF6H02LB   \n",
       "29888               0     08/12/2023         08/13/2023  5LM5J7WC4LG   \n",
       "25014               0     04/09/2024         04/29/2024  KM8K33AG8LU   \n",
       "28731               0     03/12/2024         11/02/2024  5XYP3DHC3LG   \n",
       "944                 0     03/31/2023         03/21/2024  WA1EVAF16LD   \n",
       "27320               0     09/05/2024         09/06/2024  1C4RJFBG8LC   \n",
       "28558               0     07/25/2022         07/26/2022  KNDJ23AU6L7   \n",
       "2208                0     06/01/2021         07/31/2021  1G1ZG5ST1LF   \n",
       "34645               0     02/29/2020         03/03/2020  1C6SRFJT3LN   \n",
       "34273               0     10/29/2024         11/05/2024  1C6RR6TTXLS   \n",
       "\n",
       "                                              components  \\\n",
       "22653                             FUEL/PROPULSION SYSTEM   \n",
       "29888                                        POWER TRAIN   \n",
       "25014                        FORWARD COLLISION AVOIDANCE   \n",
       "28731                                         SUSPENSION   \n",
       "944                                     UNKNOWN OR OTHER   \n",
       "27320  ELECTRICAL SYSTEM,FORWARD COLLISION AVOIDANCE,...   \n",
       "28558                                   UNKNOWN OR OTHER   \n",
       "2208         VEHICLE SPEED CONTROL,SERVICE BRAKES,ENGINE   \n",
       "34645                                          STRUCTURE   \n",
       "34273                                           AIR BAGS   \n",
       "\n",
       "                                                 summary  \n",
       "22653  We received a recall notification in December ...  \n",
       "29888  While traveling on the freeway the transmissio...  \n",
       "25014  I am concerned about the safety of my car and ...  \n",
       "28731  Less than 40k miles and the rear suspension ha...  \n",
       "944    The door locking on the Audi Q8 is consistentl...  \n",
       "27320  I am reporting significant safety issues with ...  \n",
       "28558  My car was stolen using a usb cord. The manufa...  \n",
       "2208   Speed reduced,  reduced engine power , hard br...  \n",
       "34645  AFTER TAKING THE TRUCK THROUGH A CAR WASH AND ...  \n",
       "34273  The contact owned a 2020 Ram 1500. The contact...  "
      ]
     },
     "execution_count": 3,
     "metadata": {},
     "output_type": "execute_result"
    }
   ],
   "source": [
    "print(complaints_df.info())\n",
    "complaints_df.sample(10)"
   ]
  },
  {
   "cell_type": "code",
   "execution_count": 4,
   "metadata": {},
   "outputs": [
    {
     "name": "stdout",
     "output_type": "stream",
     "text": [
      "<class 'pandas.core.frame.DataFrame'>\n",
      "RangeIndex: 2373 entries, 0 to 2372\n",
      "Data columns (total 12 columns):\n",
      " #   Column               Non-Null Count  Dtype \n",
      "---  ------               --------------  ----- \n",
      " 0   make                 2373 non-null   object\n",
      " 1   model                2373 non-null   object\n",
      " 2   modelYear            2373 non-null   object\n",
      " 3   NHTSACampaignNumber  2373 non-null   object\n",
      " 4   manufacturer         2373 non-null   object\n",
      " 5   component            2373 non-null   object\n",
      " 6   summary              2373 non-null   object\n",
      " 7   consequence          2373 non-null   object\n",
      " 8   remedy               2373 non-null   object\n",
      " 9   notes                2373 non-null   object\n",
      " 10  reportDate           2373 non-null   object\n",
      " 11  affectedVehicles     0 non-null      object\n",
      "dtypes: object(12)\n",
      "memory usage: 222.6+ KB\n",
      "None\n"
     ]
    },
    {
     "data": {
      "text/html": [
       "<div>\n",
       "<style scoped>\n",
       "    .dataframe tbody tr th:only-of-type {\n",
       "        vertical-align: middle;\n",
       "    }\n",
       "\n",
       "    .dataframe tbody tr th {\n",
       "        vertical-align: top;\n",
       "    }\n",
       "\n",
       "    .dataframe thead th {\n",
       "        text-align: right;\n",
       "    }\n",
       "</style>\n",
       "<table border=\"1\" class=\"dataframe\">\n",
       "  <thead>\n",
       "    <tr style=\"text-align: right;\">\n",
       "      <th></th>\n",
       "      <th>make</th>\n",
       "      <th>model</th>\n",
       "      <th>modelYear</th>\n",
       "      <th>NHTSACampaignNumber</th>\n",
       "      <th>manufacturer</th>\n",
       "      <th>component</th>\n",
       "      <th>summary</th>\n",
       "      <th>consequence</th>\n",
       "      <th>remedy</th>\n",
       "      <th>notes</th>\n",
       "      <th>reportDate</th>\n",
       "      <th>affectedVehicles</th>\n",
       "    </tr>\n",
       "  </thead>\n",
       "  <tbody>\n",
       "    <tr>\n",
       "      <th>2309</th>\n",
       "      <td>VOLKSWAGEN</td>\n",
       "      <td>ATLAS</td>\n",
       "      <td>2020</td>\n",
       "      <td>22V815000</td>\n",
       "      <td>Volkswagen Group of America, Inc.</td>\n",
       "      <td>TIRES:PRESSURE MONITORING AND REGULATING SYSTEMS</td>\n",
       "      <td>Volkswagen Group of America, Inc. (Volkswagen)...</td>\n",
       "      <td>An undetected sudden loss of pressure in all f...</td>\n",
       "      <td>Dealers will update the TPMS software, free of...</td>\n",
       "      <td>Owners may also contact the National Highway T...</td>\n",
       "      <td>31/10/2022</td>\n",
       "      <td>None</td>\n",
       "    </tr>\n",
       "    <tr>\n",
       "      <th>1756</th>\n",
       "      <td>NISSAN</td>\n",
       "      <td>MURANO</td>\n",
       "      <td>2020</td>\n",
       "      <td>21V402000</td>\n",
       "      <td>Nissan North America, Inc.</td>\n",
       "      <td>SUSPENSION:REAR:AXLE:SPINDLE</td>\n",
       "      <td>Nissan North America, Inc. (Nissan) is recalli...</td>\n",
       "      <td>The steering knuckle or rear axle could deform...</td>\n",
       "      <td>Dealers will inspect and replace the front ste...</td>\n",
       "      <td>Owners may also contact the National Highway T...</td>\n",
       "      <td>27/05/2021</td>\n",
       "      <td>None</td>\n",
       "    </tr>\n",
       "    <tr>\n",
       "      <th>756</th>\n",
       "      <td>FORD</td>\n",
       "      <td>TRANSIT CONNECT</td>\n",
       "      <td>2020</td>\n",
       "      <td>20V550000</td>\n",
       "      <td>Ford Motor Company</td>\n",
       "      <td>POWER TRAIN:AUTOMATIC TRANSMISSION</td>\n",
       "      <td>Ford Motor Company (Ford) is recalling certain...</td>\n",
       "      <td>Missing or loose bolts on the start stop accum...</td>\n",
       "      <td>Ford will notify owners, and dealers will repl...</td>\n",
       "      <td>Owners may also contact the National Highway T...</td>\n",
       "      <td>10/09/2020</td>\n",
       "      <td>None</td>\n",
       "    </tr>\n",
       "    <tr>\n",
       "      <th>1134</th>\n",
       "      <td>HEARTLAND</td>\n",
       "      <td>CYCLONE</td>\n",
       "      <td>2020</td>\n",
       "      <td>20V521000</td>\n",
       "      <td>Heartland Recreational Vehicles, LLC</td>\n",
       "      <td>EQUIPMENT:RECREATIONAL VEHICLE/TRAILER</td>\n",
       "      <td>Heartland Recreational Vehicles, LLC (Heartlan...</td>\n",
       "      <td>If the landing legs buckle, the trailer will d...</td>\n",
       "      <td>Heartland will notify owners, and dealers will...</td>\n",
       "      <td>Owners may also contact the National Highway T...</td>\n",
       "      <td>28/08/2020</td>\n",
       "      <td>None</td>\n",
       "    </tr>\n",
       "    <tr>\n",
       "      <th>905</th>\n",
       "      <td>FOREST RIVER</td>\n",
       "      <td>CHEROKEE</td>\n",
       "      <td>2020</td>\n",
       "      <td>24V003000</td>\n",
       "      <td>Forest River, Inc.</td>\n",
       "      <td>STRUCTURE:FRAME AND MEMBERS</td>\n",
       "      <td>Forest River, Inc. (Forest River) is recalling...</td>\n",
       "      <td>A trailer that contacts the road during transi...</td>\n",
       "      <td>Dealers will replace the Ice Hose swing arm dr...</td>\n",
       "      <td>Owners may also contact the National Highway T...</td>\n",
       "      <td>05/01/2024</td>\n",
       "      <td>None</td>\n",
       "    </tr>\n",
       "    <tr>\n",
       "      <th>803</th>\n",
       "      <td>FORD</td>\n",
       "      <td>EXPLORER</td>\n",
       "      <td>2020</td>\n",
       "      <td>20V788000</td>\n",
       "      <td>Ford Motor Company</td>\n",
       "      <td>ENGINE</td>\n",
       "      <td>Ford Motor Company (Ford) is recalling certain...</td>\n",
       "      <td>With a loose motor mount, motor vibration may ...</td>\n",
       "      <td>Ford will notify owners, and dealers will remo...</td>\n",
       "      <td>Owners may also contact the National Highway T...</td>\n",
       "      <td>17/12/2020</td>\n",
       "      <td>None</td>\n",
       "    </tr>\n",
       "    <tr>\n",
       "      <th>661</th>\n",
       "      <td>FIAT</td>\n",
       "      <td>500X</td>\n",
       "      <td>2020</td>\n",
       "      <td>19V909000</td>\n",
       "      <td>Chrysler (FCA US LLC)</td>\n",
       "      <td>SERVICE BRAKES, HYDRAULIC:FOUNDATION COMPONENT...</td>\n",
       "      <td>Chrysler (FCA US LLC) is recalling certain 202...</td>\n",
       "      <td>A cracked right rear brake caliper can fail, r...</td>\n",
       "      <td>Chrysler will notify owners, and dealers will ...</td>\n",
       "      <td>Owners may also contact the National Highway T...</td>\n",
       "      <td>19/12/2019</td>\n",
       "      <td>None</td>\n",
       "    </tr>\n",
       "    <tr>\n",
       "      <th>2316</th>\n",
       "      <td>VOLVO</td>\n",
       "      <td>VNL</td>\n",
       "      <td>2020</td>\n",
       "      <td>19V509000</td>\n",
       "      <td>Volvo Trucks North America</td>\n",
       "      <td>ELECTRICAL SYSTEM:WIRING:FUSES AND CIRCUIT BRE...</td>\n",
       "      <td>Volvo Trucks North America (Volvo Trucks) is r...</td>\n",
       "      <td>If the fuse blows the transmission may not shi...</td>\n",
       "      <td>Volvo Trucks will notify owners, and dealers w...</td>\n",
       "      <td>Owners may also contact the National Highway T...</td>\n",
       "      <td>02/07/2019</td>\n",
       "      <td>None</td>\n",
       "    </tr>\n",
       "    <tr>\n",
       "      <th>2062</th>\n",
       "      <td>TESLA</td>\n",
       "      <td>MODEL Y</td>\n",
       "      <td>2020</td>\n",
       "      <td>21V388000</td>\n",
       "      <td>Tesla, Inc.</td>\n",
       "      <td>SEAT BELTS:REAR/OTHER:RETRACTOR</td>\n",
       "      <td>Tesla, Inc. (Tesla) is recalling certain 2019-...</td>\n",
       "      <td>Improperly attached fasteners may prevent the ...</td>\n",
       "      <td>Tesla Service will inspect and replace both fa...</td>\n",
       "      <td>Owners may also contact the National Highway T...</td>\n",
       "      <td>25/05/2021</td>\n",
       "      <td>None</td>\n",
       "    </tr>\n",
       "    <tr>\n",
       "      <th>1140</th>\n",
       "      <td>HIGHLAND RIDGE</td>\n",
       "      <td>OPEN RANGE</td>\n",
       "      <td>2020</td>\n",
       "      <td>21V430000</td>\n",
       "      <td>Highland Ridge RV</td>\n",
       "      <td>EQUIPMENT:RECREATIONAL VEHICLE/TRAILER:LPG SYS...</td>\n",
       "      <td>Highland Ridge RV (Highland) is recalling cert...</td>\n",
       "      <td>Increased propane pressure can enlarge the fla...</td>\n",
       "      <td>Dealers will replace the regulator and test th...</td>\n",
       "      <td>Owners may also contact the National Highway T...</td>\n",
       "      <td>04/06/2021</td>\n",
       "      <td>None</td>\n",
       "    </tr>\n",
       "  </tbody>\n",
       "</table>\n",
       "</div>"
      ],
      "text/plain": [
       "                make            model modelYear NHTSACampaignNumber  \\\n",
       "2309      VOLKSWAGEN            ATLAS      2020           22V815000   \n",
       "1756          NISSAN           MURANO      2020           21V402000   \n",
       "756             FORD  TRANSIT CONNECT      2020           20V550000   \n",
       "1134       HEARTLAND          CYCLONE      2020           20V521000   \n",
       "905     FOREST RIVER         CHEROKEE      2020           24V003000   \n",
       "803             FORD         EXPLORER      2020           20V788000   \n",
       "661             FIAT             500X      2020           19V909000   \n",
       "2316           VOLVO              VNL      2020           19V509000   \n",
       "2062           TESLA          MODEL Y      2020           21V388000   \n",
       "1140  HIGHLAND RIDGE       OPEN RANGE      2020           21V430000   \n",
       "\n",
       "                              manufacturer  \\\n",
       "2309     Volkswagen Group of America, Inc.   \n",
       "1756            Nissan North America, Inc.   \n",
       "756                     Ford Motor Company   \n",
       "1134  Heartland Recreational Vehicles, LLC   \n",
       "905                     Forest River, Inc.   \n",
       "803                     Ford Motor Company   \n",
       "661                  Chrysler (FCA US LLC)   \n",
       "2316            Volvo Trucks North America   \n",
       "2062                           Tesla, Inc.   \n",
       "1140                     Highland Ridge RV   \n",
       "\n",
       "                                              component  \\\n",
       "2309   TIRES:PRESSURE MONITORING AND REGULATING SYSTEMS   \n",
       "1756                       SUSPENSION:REAR:AXLE:SPINDLE   \n",
       "756                  POWER TRAIN:AUTOMATIC TRANSMISSION   \n",
       "1134             EQUIPMENT:RECREATIONAL VEHICLE/TRAILER   \n",
       "905                         STRUCTURE:FRAME AND MEMBERS   \n",
       "803                                              ENGINE   \n",
       "661   SERVICE BRAKES, HYDRAULIC:FOUNDATION COMPONENT...   \n",
       "2316  ELECTRICAL SYSTEM:WIRING:FUSES AND CIRCUIT BRE...   \n",
       "2062                    SEAT BELTS:REAR/OTHER:RETRACTOR   \n",
       "1140  EQUIPMENT:RECREATIONAL VEHICLE/TRAILER:LPG SYS...   \n",
       "\n",
       "                                                summary  \\\n",
       "2309  Volkswagen Group of America, Inc. (Volkswagen)...   \n",
       "1756  Nissan North America, Inc. (Nissan) is recalli...   \n",
       "756   Ford Motor Company (Ford) is recalling certain...   \n",
       "1134  Heartland Recreational Vehicles, LLC (Heartlan...   \n",
       "905   Forest River, Inc. (Forest River) is recalling...   \n",
       "803   Ford Motor Company (Ford) is recalling certain...   \n",
       "661   Chrysler (FCA US LLC) is recalling certain 202...   \n",
       "2316  Volvo Trucks North America (Volvo Trucks) is r...   \n",
       "2062  Tesla, Inc. (Tesla) is recalling certain 2019-...   \n",
       "1140  Highland Ridge RV (Highland) is recalling cert...   \n",
       "\n",
       "                                            consequence  \\\n",
       "2309  An undetected sudden loss of pressure in all f...   \n",
       "1756  The steering knuckle or rear axle could deform...   \n",
       "756   Missing or loose bolts on the start stop accum...   \n",
       "1134  If the landing legs buckle, the trailer will d...   \n",
       "905   A trailer that contacts the road during transi...   \n",
       "803   With a loose motor mount, motor vibration may ...   \n",
       "661   A cracked right rear brake caliper can fail, r...   \n",
       "2316  If the fuse blows the transmission may not shi...   \n",
       "2062  Improperly attached fasteners may prevent the ...   \n",
       "1140  Increased propane pressure can enlarge the fla...   \n",
       "\n",
       "                                                 remedy  \\\n",
       "2309  Dealers will update the TPMS software, free of...   \n",
       "1756  Dealers will inspect and replace the front ste...   \n",
       "756   Ford will notify owners, and dealers will repl...   \n",
       "1134  Heartland will notify owners, and dealers will...   \n",
       "905   Dealers will replace the Ice Hose swing arm dr...   \n",
       "803   Ford will notify owners, and dealers will remo...   \n",
       "661   Chrysler will notify owners, and dealers will ...   \n",
       "2316  Volvo Trucks will notify owners, and dealers w...   \n",
       "2062  Tesla Service will inspect and replace both fa...   \n",
       "1140  Dealers will replace the regulator and test th...   \n",
       "\n",
       "                                                  notes  reportDate  \\\n",
       "2309  Owners may also contact the National Highway T...  31/10/2022   \n",
       "1756  Owners may also contact the National Highway T...  27/05/2021   \n",
       "756   Owners may also contact the National Highway T...  10/09/2020   \n",
       "1134  Owners may also contact the National Highway T...  28/08/2020   \n",
       "905   Owners may also contact the National Highway T...  05/01/2024   \n",
       "803   Owners may also contact the National Highway T...  17/12/2020   \n",
       "661   Owners may also contact the National Highway T...  19/12/2019   \n",
       "2316  Owners may also contact the National Highway T...  02/07/2019   \n",
       "2062  Owners may also contact the National Highway T...  25/05/2021   \n",
       "1140  Owners may also contact the National Highway T...  04/06/2021   \n",
       "\n",
       "     affectedVehicles  \n",
       "2309             None  \n",
       "1756             None  \n",
       "756              None  \n",
       "1134             None  \n",
       "905              None  \n",
       "803              None  \n",
       "661              None  \n",
       "2316             None  \n",
       "2062             None  \n",
       "1140             None  "
      ]
     },
     "execution_count": 4,
     "metadata": {},
     "output_type": "execute_result"
    }
   ],
   "source": [
    "print(recalls_df.info())\n",
    "recalls_df.sample(10)"
   ]
  },
  {
   "cell_type": "markdown",
   "metadata": {},
   "source": [
    "## Data Quickload"
   ]
  },
  {
   "cell_type": "code",
   "execution_count": 5,
   "metadata": {},
   "outputs": [],
   "source": [
    "complaints_df = pd.read_parquet('vehicle_complaints.parquet')\n",
    "recalls_df = pd.read_parquet('vehicle_recalls.parquet')"
   ]
  },
  {
   "cell_type": "markdown",
   "metadata": {},
   "source": [
    "## Visualizations"
   ]
  },
  {
   "cell_type": "code",
   "execution_count": 6,
   "metadata": {},
   "outputs": [
    {
     "data": {
      "application/vnd.plotly.v1+json": {
       "config": {
        "plotlyServerURL": "https://plot.ly"
       },
       "data": [
        {
         "name": "Complaints",
         "text": [
          2728,
          2376,
          1968,
          1584,
          1446,
          1046,
          1036,
          954,
          853,
          786
         ],
         "textposition": "auto",
         "type": "bar",
         "x": [
          "FORD ESCAPE",
          "RAM 1500 CLASSIC",
          "CHEVROLET SILVERADO 1500",
          "RAM 1500",
          "FORD EXPLORER",
          "TOYOTA RAV4",
          "KIA TELLURIDE",
          "GMC SIERRA 1500",
          "SUBARU OUTBACK",
          "FORD F-150 SUPER CREW"
         ],
         "y": [
          2728,
          2376,
          1968,
          1584,
          1446,
          1046,
          1036,
          954,
          853,
          786
         ]
        },
        {
         "name": "Recalls",
         "text": [
          26,
          0,
          66,
          48,
          44,
          12,
          12,
          66,
          6,
          0
         ],
         "textposition": "auto",
         "type": "bar",
         "x": [
          "FORD ESCAPE",
          "RAM 1500 CLASSIC",
          "CHEVROLET SILVERADO 1500",
          "RAM 1500",
          "FORD EXPLORER",
          "TOYOTA RAV4",
          "KIA TELLURIDE",
          "GMC SIERRA 1500",
          "SUBARU OUTBACK",
          "FORD F-150 SUPER CREW"
         ],
         "y": [
          26,
          0,
          66,
          48,
          44,
          12,
          12,
          66,
          6,
          0
         ]
        }
       ],
       "layout": {
        "barmode": "group",
        "template": {
         "data": {
          "bar": [
           {
            "error_x": {
             "color": "#2a3f5f"
            },
            "error_y": {
             "color": "#2a3f5f"
            },
            "marker": {
             "line": {
              "color": "#E5ECF6",
              "width": 0.5
             },
             "pattern": {
              "fillmode": "overlay",
              "size": 10,
              "solidity": 0.2
             }
            },
            "type": "bar"
           }
          ],
          "barpolar": [
           {
            "marker": {
             "line": {
              "color": "#E5ECF6",
              "width": 0.5
             },
             "pattern": {
              "fillmode": "overlay",
              "size": 10,
              "solidity": 0.2
             }
            },
            "type": "barpolar"
           }
          ],
          "carpet": [
           {
            "aaxis": {
             "endlinecolor": "#2a3f5f",
             "gridcolor": "white",
             "linecolor": "white",
             "minorgridcolor": "white",
             "startlinecolor": "#2a3f5f"
            },
            "baxis": {
             "endlinecolor": "#2a3f5f",
             "gridcolor": "white",
             "linecolor": "white",
             "minorgridcolor": "white",
             "startlinecolor": "#2a3f5f"
            },
            "type": "carpet"
           }
          ],
          "choropleth": [
           {
            "colorbar": {
             "outlinewidth": 0,
             "ticks": ""
            },
            "type": "choropleth"
           }
          ],
          "contour": [
           {
            "colorbar": {
             "outlinewidth": 0,
             "ticks": ""
            },
            "colorscale": [
             [
              0,
              "#0d0887"
             ],
             [
              0.1111111111111111,
              "#46039f"
             ],
             [
              0.2222222222222222,
              "#7201a8"
             ],
             [
              0.3333333333333333,
              "#9c179e"
             ],
             [
              0.4444444444444444,
              "#bd3786"
             ],
             [
              0.5555555555555556,
              "#d8576b"
             ],
             [
              0.6666666666666666,
              "#ed7953"
             ],
             [
              0.7777777777777778,
              "#fb9f3a"
             ],
             [
              0.8888888888888888,
              "#fdca26"
             ],
             [
              1,
              "#f0f921"
             ]
            ],
            "type": "contour"
           }
          ],
          "contourcarpet": [
           {
            "colorbar": {
             "outlinewidth": 0,
             "ticks": ""
            },
            "type": "contourcarpet"
           }
          ],
          "heatmap": [
           {
            "colorbar": {
             "outlinewidth": 0,
             "ticks": ""
            },
            "colorscale": [
             [
              0,
              "#0d0887"
             ],
             [
              0.1111111111111111,
              "#46039f"
             ],
             [
              0.2222222222222222,
              "#7201a8"
             ],
             [
              0.3333333333333333,
              "#9c179e"
             ],
             [
              0.4444444444444444,
              "#bd3786"
             ],
             [
              0.5555555555555556,
              "#d8576b"
             ],
             [
              0.6666666666666666,
              "#ed7953"
             ],
             [
              0.7777777777777778,
              "#fb9f3a"
             ],
             [
              0.8888888888888888,
              "#fdca26"
             ],
             [
              1,
              "#f0f921"
             ]
            ],
            "type": "heatmap"
           }
          ],
          "heatmapgl": [
           {
            "colorbar": {
             "outlinewidth": 0,
             "ticks": ""
            },
            "colorscale": [
             [
              0,
              "#0d0887"
             ],
             [
              0.1111111111111111,
              "#46039f"
             ],
             [
              0.2222222222222222,
              "#7201a8"
             ],
             [
              0.3333333333333333,
              "#9c179e"
             ],
             [
              0.4444444444444444,
              "#bd3786"
             ],
             [
              0.5555555555555556,
              "#d8576b"
             ],
             [
              0.6666666666666666,
              "#ed7953"
             ],
             [
              0.7777777777777778,
              "#fb9f3a"
             ],
             [
              0.8888888888888888,
              "#fdca26"
             ],
             [
              1,
              "#f0f921"
             ]
            ],
            "type": "heatmapgl"
           }
          ],
          "histogram": [
           {
            "marker": {
             "pattern": {
              "fillmode": "overlay",
              "size": 10,
              "solidity": 0.2
             }
            },
            "type": "histogram"
           }
          ],
          "histogram2d": [
           {
            "colorbar": {
             "outlinewidth": 0,
             "ticks": ""
            },
            "colorscale": [
             [
              0,
              "#0d0887"
             ],
             [
              0.1111111111111111,
              "#46039f"
             ],
             [
              0.2222222222222222,
              "#7201a8"
             ],
             [
              0.3333333333333333,
              "#9c179e"
             ],
             [
              0.4444444444444444,
              "#bd3786"
             ],
             [
              0.5555555555555556,
              "#d8576b"
             ],
             [
              0.6666666666666666,
              "#ed7953"
             ],
             [
              0.7777777777777778,
              "#fb9f3a"
             ],
             [
              0.8888888888888888,
              "#fdca26"
             ],
             [
              1,
              "#f0f921"
             ]
            ],
            "type": "histogram2d"
           }
          ],
          "histogram2dcontour": [
           {
            "colorbar": {
             "outlinewidth": 0,
             "ticks": ""
            },
            "colorscale": [
             [
              0,
              "#0d0887"
             ],
             [
              0.1111111111111111,
              "#46039f"
             ],
             [
              0.2222222222222222,
              "#7201a8"
             ],
             [
              0.3333333333333333,
              "#9c179e"
             ],
             [
              0.4444444444444444,
              "#bd3786"
             ],
             [
              0.5555555555555556,
              "#d8576b"
             ],
             [
              0.6666666666666666,
              "#ed7953"
             ],
             [
              0.7777777777777778,
              "#fb9f3a"
             ],
             [
              0.8888888888888888,
              "#fdca26"
             ],
             [
              1,
              "#f0f921"
             ]
            ],
            "type": "histogram2dcontour"
           }
          ],
          "mesh3d": [
           {
            "colorbar": {
             "outlinewidth": 0,
             "ticks": ""
            },
            "type": "mesh3d"
           }
          ],
          "parcoords": [
           {
            "line": {
             "colorbar": {
              "outlinewidth": 0,
              "ticks": ""
             }
            },
            "type": "parcoords"
           }
          ],
          "pie": [
           {
            "automargin": true,
            "type": "pie"
           }
          ],
          "scatter": [
           {
            "fillpattern": {
             "fillmode": "overlay",
             "size": 10,
             "solidity": 0.2
            },
            "type": "scatter"
           }
          ],
          "scatter3d": [
           {
            "line": {
             "colorbar": {
              "outlinewidth": 0,
              "ticks": ""
             }
            },
            "marker": {
             "colorbar": {
              "outlinewidth": 0,
              "ticks": ""
             }
            },
            "type": "scatter3d"
           }
          ],
          "scattercarpet": [
           {
            "marker": {
             "colorbar": {
              "outlinewidth": 0,
              "ticks": ""
             }
            },
            "type": "scattercarpet"
           }
          ],
          "scattergeo": [
           {
            "marker": {
             "colorbar": {
              "outlinewidth": 0,
              "ticks": ""
             }
            },
            "type": "scattergeo"
           }
          ],
          "scattergl": [
           {
            "marker": {
             "colorbar": {
              "outlinewidth": 0,
              "ticks": ""
             }
            },
            "type": "scattergl"
           }
          ],
          "scattermapbox": [
           {
            "marker": {
             "colorbar": {
              "outlinewidth": 0,
              "ticks": ""
             }
            },
            "type": "scattermapbox"
           }
          ],
          "scatterpolar": [
           {
            "marker": {
             "colorbar": {
              "outlinewidth": 0,
              "ticks": ""
             }
            },
            "type": "scatterpolar"
           }
          ],
          "scatterpolargl": [
           {
            "marker": {
             "colorbar": {
              "outlinewidth": 0,
              "ticks": ""
             }
            },
            "type": "scatterpolargl"
           }
          ],
          "scatterternary": [
           {
            "marker": {
             "colorbar": {
              "outlinewidth": 0,
              "ticks": ""
             }
            },
            "type": "scatterternary"
           }
          ],
          "surface": [
           {
            "colorbar": {
             "outlinewidth": 0,
             "ticks": ""
            },
            "colorscale": [
             [
              0,
              "#0d0887"
             ],
             [
              0.1111111111111111,
              "#46039f"
             ],
             [
              0.2222222222222222,
              "#7201a8"
             ],
             [
              0.3333333333333333,
              "#9c179e"
             ],
             [
              0.4444444444444444,
              "#bd3786"
             ],
             [
              0.5555555555555556,
              "#d8576b"
             ],
             [
              0.6666666666666666,
              "#ed7953"
             ],
             [
              0.7777777777777778,
              "#fb9f3a"
             ],
             [
              0.8888888888888888,
              "#fdca26"
             ],
             [
              1,
              "#f0f921"
             ]
            ],
            "type": "surface"
           }
          ],
          "table": [
           {
            "cells": {
             "fill": {
              "color": "#EBF0F8"
             },
             "line": {
              "color": "white"
             }
            },
            "header": {
             "fill": {
              "color": "#C8D4E3"
             },
             "line": {
              "color": "white"
             }
            },
            "type": "table"
           }
          ]
         },
         "layout": {
          "annotationdefaults": {
           "arrowcolor": "#2a3f5f",
           "arrowhead": 0,
           "arrowwidth": 1
          },
          "autotypenumbers": "strict",
          "coloraxis": {
           "colorbar": {
            "outlinewidth": 0,
            "ticks": ""
           }
          },
          "colorscale": {
           "diverging": [
            [
             0,
             "#8e0152"
            ],
            [
             0.1,
             "#c51b7d"
            ],
            [
             0.2,
             "#de77ae"
            ],
            [
             0.3,
             "#f1b6da"
            ],
            [
             0.4,
             "#fde0ef"
            ],
            [
             0.5,
             "#f7f7f7"
            ],
            [
             0.6,
             "#e6f5d0"
            ],
            [
             0.7,
             "#b8e186"
            ],
            [
             0.8,
             "#7fbc41"
            ],
            [
             0.9,
             "#4d9221"
            ],
            [
             1,
             "#276419"
            ]
           ],
           "sequential": [
            [
             0,
             "#0d0887"
            ],
            [
             0.1111111111111111,
             "#46039f"
            ],
            [
             0.2222222222222222,
             "#7201a8"
            ],
            [
             0.3333333333333333,
             "#9c179e"
            ],
            [
             0.4444444444444444,
             "#bd3786"
            ],
            [
             0.5555555555555556,
             "#d8576b"
            ],
            [
             0.6666666666666666,
             "#ed7953"
            ],
            [
             0.7777777777777778,
             "#fb9f3a"
            ],
            [
             0.8888888888888888,
             "#fdca26"
            ],
            [
             1,
             "#f0f921"
            ]
           ],
           "sequentialminus": [
            [
             0,
             "#0d0887"
            ],
            [
             0.1111111111111111,
             "#46039f"
            ],
            [
             0.2222222222222222,
             "#7201a8"
            ],
            [
             0.3333333333333333,
             "#9c179e"
            ],
            [
             0.4444444444444444,
             "#bd3786"
            ],
            [
             0.5555555555555556,
             "#d8576b"
            ],
            [
             0.6666666666666666,
             "#ed7953"
            ],
            [
             0.7777777777777778,
             "#fb9f3a"
            ],
            [
             0.8888888888888888,
             "#fdca26"
            ],
            [
             1,
             "#f0f921"
            ]
           ]
          },
          "colorway": [
           "#636efa",
           "#EF553B",
           "#00cc96",
           "#ab63fa",
           "#FFA15A",
           "#19d3f3",
           "#FF6692",
           "#B6E880",
           "#FF97FF",
           "#FECB52"
          ],
          "font": {
           "color": "#2a3f5f"
          },
          "geo": {
           "bgcolor": "white",
           "lakecolor": "white",
           "landcolor": "#E5ECF6",
           "showlakes": true,
           "showland": true,
           "subunitcolor": "white"
          },
          "hoverlabel": {
           "align": "left"
          },
          "hovermode": "closest",
          "mapbox": {
           "style": "light"
          },
          "paper_bgcolor": "white",
          "plot_bgcolor": "#E5ECF6",
          "polar": {
           "angularaxis": {
            "gridcolor": "white",
            "linecolor": "white",
            "ticks": ""
           },
           "bgcolor": "#E5ECF6",
           "radialaxis": {
            "gridcolor": "white",
            "linecolor": "white",
            "ticks": ""
           }
          },
          "scene": {
           "xaxis": {
            "backgroundcolor": "#E5ECF6",
            "gridcolor": "white",
            "gridwidth": 2,
            "linecolor": "white",
            "showbackground": true,
            "ticks": "",
            "zerolinecolor": "white"
           },
           "yaxis": {
            "backgroundcolor": "#E5ECF6",
            "gridcolor": "white",
            "gridwidth": 2,
            "linecolor": "white",
            "showbackground": true,
            "ticks": "",
            "zerolinecolor": "white"
           },
           "zaxis": {
            "backgroundcolor": "#E5ECF6",
            "gridcolor": "white",
            "gridwidth": 2,
            "linecolor": "white",
            "showbackground": true,
            "ticks": "",
            "zerolinecolor": "white"
           }
          },
          "shapedefaults": {
           "line": {
            "color": "#2a3f5f"
           }
          },
          "ternary": {
           "aaxis": {
            "gridcolor": "white",
            "linecolor": "white",
            "ticks": ""
           },
           "baxis": {
            "gridcolor": "white",
            "linecolor": "white",
            "ticks": ""
           },
           "bgcolor": "#E5ECF6",
           "caxis": {
            "gridcolor": "white",
            "linecolor": "white",
            "ticks": ""
           }
          },
          "title": {
           "x": 0.05
          },
          "xaxis": {
           "automargin": true,
           "gridcolor": "white",
           "linecolor": "white",
           "ticks": "",
           "title": {
            "standoff": 15
           },
           "zerolinecolor": "white",
           "zerolinewidth": 2
          },
          "yaxis": {
           "automargin": true,
           "gridcolor": "white",
           "linecolor": "white",
           "ticks": "",
           "title": {
            "standoff": 15
           },
           "zerolinecolor": "white",
           "zerolinewidth": 2
          }
         }
        },
        "title": {
         "text": "Top 10 Makes and Models by Complaints with Recalls"
        },
        "xaxis": {
         "tickangle": -45,
         "title": {
          "text": "Make and Model"
         }
        },
        "yaxis": {
         "title": {
          "text": "Count"
         }
        }
       }
      }
     },
     "metadata": {},
     "output_type": "display_data"
    }
   ],
   "source": [
    "import plotly.graph_objects as go\n",
    "import pandas as pd\n",
    "\n",
    "# Load the complaints and recalls data\n",
    "#complaints_df = pd.read_parquet(\"vehicle_complaints_2024.parquet\")\n",
    "#recalls_df = pd.read_parquet(\"vehicle_recalls_2024.parquet\")\n",
    "\n",
    "# Aggregate data for complaints\n",
    "complaints_agg = complaints_df.groupby(['make', 'model']).size().reset_index(name='complaints_count')\n",
    "\n",
    "# Aggregate data for recalls\n",
    "recalls_agg = recalls_df.groupby(['make', 'model']).size().reset_index(name='recalls_count')\n",
    "\n",
    "# Merge the two datasets\n",
    "merged_data = pd.merge(complaints_agg, recalls_agg, on=['make', 'model'], how='outer').fillna(0)\n",
    "\n",
    "# Sort by complaints and select top 10\n",
    "top_data = merged_data.sort_values(by='complaints_count', ascending=False).head(10)\n",
    "\n",
    "# Create the bar chart\n",
    "fig = go.Figure()\n",
    "\n",
    "# Add complaints bar\n",
    "fig.add_trace(go.Bar(\n",
    "    x=top_data['make'] + \" \" + top_data['model'],\n",
    "    y=top_data['complaints_count'],\n",
    "    name='Complaints',\n",
    "    text=top_data['complaints_count'],\n",
    "    textposition='auto'\n",
    "))\n",
    "\n",
    "# Add recalls bar\n",
    "fig.add_trace(go.Bar(\n",
    "    x=top_data['make'] + \" \" + top_data['model'],\n",
    "    y=top_data['recalls_count'],\n",
    "    name='Recalls',\n",
    "    text=top_data['recalls_count'],\n",
    "    textposition='auto'\n",
    "))\n",
    "\n",
    "# Update layout\n",
    "fig.update_layout(\n",
    "    title=\"Top 10 Makes and Models by Complaints with Recalls\",\n",
    "    xaxis_title=\"Make and Model\",\n",
    "    yaxis_title=\"Count\",\n",
    "    barmode='group',\n",
    "    xaxis_tickangle=-45\n",
    ")\n",
    "\n",
    "# Show the plot\n",
    "fig.show()\n"
   ]
  },
  {
   "cell_type": "code",
   "execution_count": 7,
   "metadata": {},
   "outputs": [
    {
     "data": {
      "application/vnd.plotly.v1+json": {
       "config": {
        "plotlyServerURL": "https://plot.ly"
       },
       "data": [
        {
         "marker": {
          "color": "blue",
          "opacity": 0.7
         },
         "mode": "markers",
         "name": "Complaints vs Recalls",
         "type": "scatter",
         "x": [
          4,
          222,
          432,
          76,
          1,
          2,
          1,
          1,
          10,
          6,
          1,
          1,
          1,
          1,
          1,
          24,
          24,
          1,
          6,
          4,
          9,
          9,
          36,
          36,
          8,
          2,
          2,
          2,
          3,
          55,
          17,
          8,
          16,
          17,
          1,
          1,
          1,
          3,
          3,
          3,
          5,
          1,
          1,
          1,
          1,
          3,
          8,
          1,
          36,
          4,
          2,
          12,
          2,
          2,
          16,
          2,
          2,
          1,
          1,
          1,
          1,
          21,
          2,
          1,
          1,
          1,
          1,
          1,
          7,
          1,
          6,
          5,
          2,
          3,
          20,
          2,
          112,
          56,
          56,
          8,
          8,
          74,
          8,
          20,
          3,
          56,
          24,
          86,
          20,
          2,
          2,
          4,
          20,
          4,
          4,
          8,
          12,
          16,
          22,
          52,
          1,
          15,
          2,
          5,
          2,
          164,
          138,
          30,
          30,
          30,
          204,
          48,
          362,
          6,
          6,
          6,
          6,
          6,
          9,
          121,
          1968,
          342,
          19,
          1,
          2,
          16,
          16,
          38,
          54,
          234,
          106,
          18,
          292,
          6,
          7,
          1,
          2,
          2,
          1,
          1,
          1,
          1,
          1,
          2,
          1,
          1,
          1,
          1,
          3,
          30,
          84,
          58,
          10,
          10,
          24,
          2,
          3,
          2,
          1,
          6,
          3,
          1,
          1,
          1,
          1,
          2,
          1,
          1,
          3,
          1,
          1,
          1,
          2,
          1,
          1,
          1,
          2,
          2,
          3,
          2,
          1,
          1,
          528,
          250,
          2728,
          20,
          10,
          450,
          1446,
          786,
          786,
          786,
          786,
          786,
          290,
          290,
          290,
          200,
          200,
          1,
          200,
          15,
          12,
          8,
          5,
          16,
          270,
          3,
          1,
          132,
          66,
          296,
          66,
          40,
          66,
          66,
          66,
          66,
          66,
          66,
          1,
          1,
          5,
          13,
          2,
          7,
          10,
          1,
          1,
          5,
          8,
          1,
          11,
          1,
          10,
          2,
          1,
          1,
          1,
          4,
          1,
          3,
          2,
          1,
          1,
          1,
          8,
          23,
          12,
          6,
          12,
          12,
          12,
          12,
          1,
          20,
          4,
          100,
          40,
          954,
          246,
          33,
          7,
          180,
          20,
          26,
          8,
          17,
          5,
          8,
          1,
          1,
          1,
          3,
          1,
          3,
          1,
          2,
          1,
          1,
          2,
          1,
          1,
          1,
          2,
          1,
          2,
          1,
          1,
          1,
          1,
          2,
          1,
          1,
          214,
          1,
          2,
          296,
          148,
          148,
          1,
          300,
          3,
          3,
          534,
          4,
          1,
          9,
          13,
          23,
          1,
          84,
          23,
          188,
          686,
          234,
          5,
          1,
          1,
          1,
          2,
          2,
          9,
          165,
          171,
          13,
          2,
          3,
          1,
          262,
          131,
          5,
          318,
          216,
          124,
          214,
          18,
          35,
          2,
          1,
          2,
          2,
          20,
          24,
          10,
          2,
          1,
          1,
          2,
          1,
          1,
          1,
          7,
          2,
          2,
          15,
          1,
          3,
          1,
          1,
          1,
          1,
          12,
          1,
          2,
          4,
          2,
          2,
          6,
          2,
          5,
          220,
          200,
          313,
          258,
          129,
          129,
          98,
          393,
          393,
          1,
          1,
          1,
          8,
          5,
          1,
          1,
          1,
          1,
          3,
          2,
          2,
          1,
          2,
          2,
          1,
          2,
          1,
          2,
          1,
          44,
          34,
          67,
          40,
          11,
          128,
          244,
          172,
          20,
          1036,
          1,
          1,
          2,
          3,
          2,
          2,
          11,
          6,
          2,
          1,
          1,
          1,
          1,
          1,
          4,
          4,
          34,
          11,
          7,
          32,
          9,
          19,
          9,
          7,
          7,
          1,
          5,
          2,
          1,
          4,
          2,
          1,
          1,
          26,
          6,
          1,
          2,
          62,
          14,
          26,
          24,
          2,
          2,
          1,
          142,
          12,
          62,
          2,
          28,
          28,
          28,
          5,
          1,
          1,
          2,
          2,
          1,
          2,
          1,
          2,
          50,
          124,
          16,
          104,
          2,
          1,
          2,
          18,
          116,
          58,
          32,
          12,
          52,
          26,
          22,
          1,
          12,
          92,
          102,
          98,
          46,
          150,
          23,
          4,
          4,
          4,
          6,
          6,
          20,
          10,
          3,
          1,
          1,
          4,
          5,
          5,
          140,
          70,
          140,
          140,
          140,
          140,
          11,
          1,
          6,
          3,
          1,
          10,
          5,
          6,
          4,
          34,
          46,
          1,
          3,
          3,
          2,
          1,
          3,
          1,
          1,
          242,
          32,
          32,
          57,
          27,
          27,
          17,
          70,
          1,
          1,
          66,
          224,
          70,
          160,
          60,
          15,
          35,
          1,
          1,
          1,
          1,
          3,
          2,
          1,
          1,
          1,
          1,
          1,
          1,
          1,
          1,
          1,
          1,
          1,
          1,
          1,
          1,
          10,
          10,
          11,
          10,
          10,
          11,
          10,
          10,
          11,
          1,
          5,
          5,
          5,
          5,
          5,
          69,
          1,
          1,
          1584,
          2376,
          690,
          102,
          2,
          6,
          17,
          2,
          1,
          1,
          1,
          1,
          3,
          1,
          1,
          3,
          2,
          287,
          2,
          55,
          556,
          156,
          114,
          853,
          13,
          3,
          1,
          1,
          728,
          70,
          105,
          105,
          105,
          238,
          1,
          2,
          1,
          1,
          1,
          2,
          2,
          3,
          3,
          4,
          3,
          1,
          2,
          1,
          2,
          4,
          1,
          2,
          4,
          58,
          1,
          9,
          7,
          168,
          4,
          3,
          300,
          6,
          1,
          24,
          14,
          1046,
          7,
          6,
          56,
          10,
          256,
          140,
          9,
          9,
          1,
          1,
          5,
          3,
          1,
          1,
          1,
          1,
          1,
          1,
          3,
          1,
          1,
          7,
          2,
          36,
          150,
          5,
          8,
          41,
          12,
          196,
          7,
          7,
          7,
          7,
          2,
          2,
          5,
          5,
          5,
          3,
          1,
          1,
          1,
          3,
          1,
          3,
          8,
          8,
          32,
          16,
          16,
          16,
          24,
          12,
          12,
          1,
          1,
          1,
          1,
          1,
          2,
          1,
          5,
          2,
          1,
          2,
          8,
          1,
          1,
          1,
          1,
          1,
          1
         ],
         "y": [
          1,
          10,
          8,
          8,
          1,
          4,
          3,
          3,
          8,
          5,
          0,
          0,
          1,
          0,
          10,
          6,
          0,
          0,
          6,
          1,
          4,
          0,
          16,
          0,
          3,
          7,
          0,
          0,
          4,
          2,
          6,
          0,
          4,
          2,
          0,
          1,
          3,
          4,
          0,
          5,
          4,
          0,
          1,
          0,
          0,
          24,
          0,
          0,
          0,
          0,
          0,
          0,
          6,
          0,
          0,
          0,
          0,
          1,
          0,
          1,
          0,
          10,
          4,
          3,
          3,
          3,
          0,
          0,
          6,
          3,
          5,
          1,
          2,
          2,
          2,
          2,
          30,
          0,
          0,
          9,
          0,
          20,
          18,
          11,
          5,
          12,
          4,
          4,
          0,
          2,
          0,
          6,
          6,
          1,
          0,
          4,
          4,
          10,
          10,
          8,
          0,
          4,
          0,
          2,
          0,
          6,
          8,
          4,
          0,
          0,
          0,
          8,
          8,
          0,
          0,
          0,
          0,
          0,
          0,
          1,
          66,
          54,
          7,
          1,
          1,
          0,
          0,
          0,
          6,
          16,
          0,
          4,
          6,
          2,
          1,
          0,
          0,
          2,
          2,
          0,
          0,
          1,
          3,
          3,
          3,
          1,
          1,
          0,
          0,
          2,
          6,
          4,
          0,
          0,
          0,
          0,
          0,
          1,
          2,
          0,
          0,
          1,
          1,
          1,
          0,
          1,
          2,
          7,
          5,
          5,
          1,
          7,
          2,
          0,
          2,
          5,
          4,
          5,
          4,
          3,
          5,
          0,
          4,
          6,
          26,
          0,
          0,
          22,
          44,
          0,
          0,
          0,
          0,
          0,
          0,
          0,
          0,
          0,
          0,
          12,
          0,
          1,
          1,
          2,
          2,
          1,
          2,
          0,
          0,
          12,
          0,
          20,
          7,
          12,
          0,
          0,
          0,
          0,
          0,
          0,
          5,
          1,
          3,
          7,
          0,
          2,
          6,
          0,
          1,
          2,
          3,
          0,
          1,
          1,
          6,
          0,
          0,
          4,
          0,
          4,
          2,
          2,
          6,
          1,
          1,
          9,
          11,
          20,
          0,
          0,
          0,
          0,
          0,
          0,
          0,
          6,
          2,
          12,
          0,
          66,
          48,
          7,
          0,
          4,
          6,
          4,
          2,
          2,
          1,
          2,
          2,
          0,
          0,
          1,
          1,
          2,
          1,
          1,
          1,
          2,
          1,
          1,
          1,
          0,
          1,
          1,
          2,
          2,
          2,
          0,
          3,
          0,
          1,
          3,
          4,
          4,
          0,
          8,
          0,
          0,
          0,
          0,
          0,
          0,
          12,
          4,
          1,
          0,
          0,
          3,
          3,
          8,
          5,
          11,
          18,
          14,
          0,
          3,
          0,
          3,
          3,
          3,
          4,
          3,
          0,
          0,
          1,
          0,
          0,
          4,
          3,
          4,
          3,
          4,
          3,
          2,
          1,
          1,
          2,
          0,
          0,
          2,
          2,
          2,
          2,
          0,
          3,
          9,
          8,
          5,
          0,
          0,
          0,
          4,
          0,
          7,
          3,
          3,
          3,
          4,
          0,
          5,
          3,
          0,
          2,
          0,
          3,
          2,
          4,
          0,
          4,
          4,
          2,
          7,
          6,
          0,
          0,
          6,
          12,
          0,
          0,
          0,
          1,
          8,
          1,
          0,
          0,
          3,
          1,
          8,
          5,
          5,
          4,
          1,
          0,
          1,
          5,
          1,
          0,
          0,
          0,
          0,
          0,
          2,
          1,
          2,
          1,
          4,
          12,
          12,
          0,
          1,
          0,
          2,
          0,
          1,
          2,
          2,
          1,
          1,
          2,
          1,
          1,
          2,
          2,
          1,
          4,
          6,
          3,
          0,
          0,
          6,
          0,
          2,
          1,
          0,
          0,
          0,
          0,
          0,
          0,
          0,
          0,
          0,
          0,
          0,
          0,
          0,
          0,
          0,
          0,
          0,
          0,
          0,
          36,
          2,
          16,
          0,
          6,
          14,
          0,
          0,
          0,
          1,
          5,
          6,
          4,
          0,
          0,
          2,
          6,
          0,
          2,
          8,
          0,
          1,
          1,
          0,
          0,
          0,
          0,
          0,
          0,
          0,
          0,
          0,
          0,
          0,
          0,
          0,
          0,
          0,
          0,
          0,
          0,
          0,
          0,
          0,
          0,
          0,
          0,
          0,
          0,
          3,
          0,
          0,
          0,
          0,
          0,
          0,
          0,
          0,
          22,
          22,
          2,
          2,
          1,
          4,
          0,
          0,
          0,
          2,
          2,
          2,
          4,
          10,
          5,
          7,
          4,
          7,
          1,
          10,
          0,
          0,
          0,
          6,
          0,
          1,
          4,
          0,
          0,
          0,
          2,
          2,
          4,
          20,
          1,
          2,
          0,
          0,
          1,
          4,
          12,
          6,
          1,
          1,
          5,
          0,
          0,
          0,
          0,
          0,
          1,
          0,
          0,
          0,
          0,
          0,
          3,
          0,
          0,
          0,
          2,
          1,
          1,
          1,
          2,
          1,
          1,
          0,
          0,
          0,
          0,
          11,
          4,
          0,
          48,
          0,
          45,
          11,
          10,
          10,
          2,
          0,
          2,
          1,
          0,
          1,
          1,
          1,
          7,
          5,
          1,
          4,
          0,
          0,
          0,
          2,
          6,
          6,
          1,
          0,
          0,
          0,
          40,
          0,
          0,
          0,
          0,
          22,
          16,
          4,
          4,
          1,
          9,
          7,
          6,
          2,
          6,
          4,
          3,
          2,
          0,
          2,
          2,
          2,
          3,
          3,
          3,
          2,
          0,
          3,
          1,
          3,
          2,
          9,
          8,
          8,
          0,
          0,
          1,
          12,
          5,
          4,
          4,
          7,
          4,
          20,
          1,
          0,
          8,
          0,
          2,
          2,
          2,
          0,
          0,
          1,
          1,
          0,
          0,
          0,
          1,
          0,
          0,
          8,
          22,
          2,
          0,
          6,
          3,
          6,
          0,
          0,
          0,
          0,
          0,
          0,
          0,
          0,
          0,
          3,
          0,
          0,
          0,
          2,
          2,
          9,
          0,
          0,
          0,
          0,
          0,
          0,
          0,
          0,
          0,
          0,
          7,
          6,
          0,
          2,
          1,
          2,
          5,
          2,
          0,
          4,
          6,
          3,
          1,
          0,
          0,
          2,
          1
         ]
        }
       ],
       "layout": {
        "template": {
         "data": {
          "bar": [
           {
            "error_x": {
             "color": "#2a3f5f"
            },
            "error_y": {
             "color": "#2a3f5f"
            },
            "marker": {
             "line": {
              "color": "white",
              "width": 0.5
             },
             "pattern": {
              "fillmode": "overlay",
              "size": 10,
              "solidity": 0.2
             }
            },
            "type": "bar"
           }
          ],
          "barpolar": [
           {
            "marker": {
             "line": {
              "color": "white",
              "width": 0.5
             },
             "pattern": {
              "fillmode": "overlay",
              "size": 10,
              "solidity": 0.2
             }
            },
            "type": "barpolar"
           }
          ],
          "carpet": [
           {
            "aaxis": {
             "endlinecolor": "#2a3f5f",
             "gridcolor": "#C8D4E3",
             "linecolor": "#C8D4E3",
             "minorgridcolor": "#C8D4E3",
             "startlinecolor": "#2a3f5f"
            },
            "baxis": {
             "endlinecolor": "#2a3f5f",
             "gridcolor": "#C8D4E3",
             "linecolor": "#C8D4E3",
             "minorgridcolor": "#C8D4E3",
             "startlinecolor": "#2a3f5f"
            },
            "type": "carpet"
           }
          ],
          "choropleth": [
           {
            "colorbar": {
             "outlinewidth": 0,
             "ticks": ""
            },
            "type": "choropleth"
           }
          ],
          "contour": [
           {
            "colorbar": {
             "outlinewidth": 0,
             "ticks": ""
            },
            "colorscale": [
             [
              0,
              "#0d0887"
             ],
             [
              0.1111111111111111,
              "#46039f"
             ],
             [
              0.2222222222222222,
              "#7201a8"
             ],
             [
              0.3333333333333333,
              "#9c179e"
             ],
             [
              0.4444444444444444,
              "#bd3786"
             ],
             [
              0.5555555555555556,
              "#d8576b"
             ],
             [
              0.6666666666666666,
              "#ed7953"
             ],
             [
              0.7777777777777778,
              "#fb9f3a"
             ],
             [
              0.8888888888888888,
              "#fdca26"
             ],
             [
              1,
              "#f0f921"
             ]
            ],
            "type": "contour"
           }
          ],
          "contourcarpet": [
           {
            "colorbar": {
             "outlinewidth": 0,
             "ticks": ""
            },
            "type": "contourcarpet"
           }
          ],
          "heatmap": [
           {
            "colorbar": {
             "outlinewidth": 0,
             "ticks": ""
            },
            "colorscale": [
             [
              0,
              "#0d0887"
             ],
             [
              0.1111111111111111,
              "#46039f"
             ],
             [
              0.2222222222222222,
              "#7201a8"
             ],
             [
              0.3333333333333333,
              "#9c179e"
             ],
             [
              0.4444444444444444,
              "#bd3786"
             ],
             [
              0.5555555555555556,
              "#d8576b"
             ],
             [
              0.6666666666666666,
              "#ed7953"
             ],
             [
              0.7777777777777778,
              "#fb9f3a"
             ],
             [
              0.8888888888888888,
              "#fdca26"
             ],
             [
              1,
              "#f0f921"
             ]
            ],
            "type": "heatmap"
           }
          ],
          "heatmapgl": [
           {
            "colorbar": {
             "outlinewidth": 0,
             "ticks": ""
            },
            "colorscale": [
             [
              0,
              "#0d0887"
             ],
             [
              0.1111111111111111,
              "#46039f"
             ],
             [
              0.2222222222222222,
              "#7201a8"
             ],
             [
              0.3333333333333333,
              "#9c179e"
             ],
             [
              0.4444444444444444,
              "#bd3786"
             ],
             [
              0.5555555555555556,
              "#d8576b"
             ],
             [
              0.6666666666666666,
              "#ed7953"
             ],
             [
              0.7777777777777778,
              "#fb9f3a"
             ],
             [
              0.8888888888888888,
              "#fdca26"
             ],
             [
              1,
              "#f0f921"
             ]
            ],
            "type": "heatmapgl"
           }
          ],
          "histogram": [
           {
            "marker": {
             "pattern": {
              "fillmode": "overlay",
              "size": 10,
              "solidity": 0.2
             }
            },
            "type": "histogram"
           }
          ],
          "histogram2d": [
           {
            "colorbar": {
             "outlinewidth": 0,
             "ticks": ""
            },
            "colorscale": [
             [
              0,
              "#0d0887"
             ],
             [
              0.1111111111111111,
              "#46039f"
             ],
             [
              0.2222222222222222,
              "#7201a8"
             ],
             [
              0.3333333333333333,
              "#9c179e"
             ],
             [
              0.4444444444444444,
              "#bd3786"
             ],
             [
              0.5555555555555556,
              "#d8576b"
             ],
             [
              0.6666666666666666,
              "#ed7953"
             ],
             [
              0.7777777777777778,
              "#fb9f3a"
             ],
             [
              0.8888888888888888,
              "#fdca26"
             ],
             [
              1,
              "#f0f921"
             ]
            ],
            "type": "histogram2d"
           }
          ],
          "histogram2dcontour": [
           {
            "colorbar": {
             "outlinewidth": 0,
             "ticks": ""
            },
            "colorscale": [
             [
              0,
              "#0d0887"
             ],
             [
              0.1111111111111111,
              "#46039f"
             ],
             [
              0.2222222222222222,
              "#7201a8"
             ],
             [
              0.3333333333333333,
              "#9c179e"
             ],
             [
              0.4444444444444444,
              "#bd3786"
             ],
             [
              0.5555555555555556,
              "#d8576b"
             ],
             [
              0.6666666666666666,
              "#ed7953"
             ],
             [
              0.7777777777777778,
              "#fb9f3a"
             ],
             [
              0.8888888888888888,
              "#fdca26"
             ],
             [
              1,
              "#f0f921"
             ]
            ],
            "type": "histogram2dcontour"
           }
          ],
          "mesh3d": [
           {
            "colorbar": {
             "outlinewidth": 0,
             "ticks": ""
            },
            "type": "mesh3d"
           }
          ],
          "parcoords": [
           {
            "line": {
             "colorbar": {
              "outlinewidth": 0,
              "ticks": ""
             }
            },
            "type": "parcoords"
           }
          ],
          "pie": [
           {
            "automargin": true,
            "type": "pie"
           }
          ],
          "scatter": [
           {
            "fillpattern": {
             "fillmode": "overlay",
             "size": 10,
             "solidity": 0.2
            },
            "type": "scatter"
           }
          ],
          "scatter3d": [
           {
            "line": {
             "colorbar": {
              "outlinewidth": 0,
              "ticks": ""
             }
            },
            "marker": {
             "colorbar": {
              "outlinewidth": 0,
              "ticks": ""
             }
            },
            "type": "scatter3d"
           }
          ],
          "scattercarpet": [
           {
            "marker": {
             "colorbar": {
              "outlinewidth": 0,
              "ticks": ""
             }
            },
            "type": "scattercarpet"
           }
          ],
          "scattergeo": [
           {
            "marker": {
             "colorbar": {
              "outlinewidth": 0,
              "ticks": ""
             }
            },
            "type": "scattergeo"
           }
          ],
          "scattergl": [
           {
            "marker": {
             "colorbar": {
              "outlinewidth": 0,
              "ticks": ""
             }
            },
            "type": "scattergl"
           }
          ],
          "scattermapbox": [
           {
            "marker": {
             "colorbar": {
              "outlinewidth": 0,
              "ticks": ""
             }
            },
            "type": "scattermapbox"
           }
          ],
          "scatterpolar": [
           {
            "marker": {
             "colorbar": {
              "outlinewidth": 0,
              "ticks": ""
             }
            },
            "type": "scatterpolar"
           }
          ],
          "scatterpolargl": [
           {
            "marker": {
             "colorbar": {
              "outlinewidth": 0,
              "ticks": ""
             }
            },
            "type": "scatterpolargl"
           }
          ],
          "scatterternary": [
           {
            "marker": {
             "colorbar": {
              "outlinewidth": 0,
              "ticks": ""
             }
            },
            "type": "scatterternary"
           }
          ],
          "surface": [
           {
            "colorbar": {
             "outlinewidth": 0,
             "ticks": ""
            },
            "colorscale": [
             [
              0,
              "#0d0887"
             ],
             [
              0.1111111111111111,
              "#46039f"
             ],
             [
              0.2222222222222222,
              "#7201a8"
             ],
             [
              0.3333333333333333,
              "#9c179e"
             ],
             [
              0.4444444444444444,
              "#bd3786"
             ],
             [
              0.5555555555555556,
              "#d8576b"
             ],
             [
              0.6666666666666666,
              "#ed7953"
             ],
             [
              0.7777777777777778,
              "#fb9f3a"
             ],
             [
              0.8888888888888888,
              "#fdca26"
             ],
             [
              1,
              "#f0f921"
             ]
            ],
            "type": "surface"
           }
          ],
          "table": [
           {
            "cells": {
             "fill": {
              "color": "#EBF0F8"
             },
             "line": {
              "color": "white"
             }
            },
            "header": {
             "fill": {
              "color": "#C8D4E3"
             },
             "line": {
              "color": "white"
             }
            },
            "type": "table"
           }
          ]
         },
         "layout": {
          "annotationdefaults": {
           "arrowcolor": "#2a3f5f",
           "arrowhead": 0,
           "arrowwidth": 1
          },
          "autotypenumbers": "strict",
          "coloraxis": {
           "colorbar": {
            "outlinewidth": 0,
            "ticks": ""
           }
          },
          "colorscale": {
           "diverging": [
            [
             0,
             "#8e0152"
            ],
            [
             0.1,
             "#c51b7d"
            ],
            [
             0.2,
             "#de77ae"
            ],
            [
             0.3,
             "#f1b6da"
            ],
            [
             0.4,
             "#fde0ef"
            ],
            [
             0.5,
             "#f7f7f7"
            ],
            [
             0.6,
             "#e6f5d0"
            ],
            [
             0.7,
             "#b8e186"
            ],
            [
             0.8,
             "#7fbc41"
            ],
            [
             0.9,
             "#4d9221"
            ],
            [
             1,
             "#276419"
            ]
           ],
           "sequential": [
            [
             0,
             "#0d0887"
            ],
            [
             0.1111111111111111,
             "#46039f"
            ],
            [
             0.2222222222222222,
             "#7201a8"
            ],
            [
             0.3333333333333333,
             "#9c179e"
            ],
            [
             0.4444444444444444,
             "#bd3786"
            ],
            [
             0.5555555555555556,
             "#d8576b"
            ],
            [
             0.6666666666666666,
             "#ed7953"
            ],
            [
             0.7777777777777778,
             "#fb9f3a"
            ],
            [
             0.8888888888888888,
             "#fdca26"
            ],
            [
             1,
             "#f0f921"
            ]
           ],
           "sequentialminus": [
            [
             0,
             "#0d0887"
            ],
            [
             0.1111111111111111,
             "#46039f"
            ],
            [
             0.2222222222222222,
             "#7201a8"
            ],
            [
             0.3333333333333333,
             "#9c179e"
            ],
            [
             0.4444444444444444,
             "#bd3786"
            ],
            [
             0.5555555555555556,
             "#d8576b"
            ],
            [
             0.6666666666666666,
             "#ed7953"
            ],
            [
             0.7777777777777778,
             "#fb9f3a"
            ],
            [
             0.8888888888888888,
             "#fdca26"
            ],
            [
             1,
             "#f0f921"
            ]
           ]
          },
          "colorway": [
           "#636efa",
           "#EF553B",
           "#00cc96",
           "#ab63fa",
           "#FFA15A",
           "#19d3f3",
           "#FF6692",
           "#B6E880",
           "#FF97FF",
           "#FECB52"
          ],
          "font": {
           "color": "#2a3f5f"
          },
          "geo": {
           "bgcolor": "white",
           "lakecolor": "white",
           "landcolor": "white",
           "showlakes": true,
           "showland": true,
           "subunitcolor": "#C8D4E3"
          },
          "hoverlabel": {
           "align": "left"
          },
          "hovermode": "closest",
          "mapbox": {
           "style": "light"
          },
          "paper_bgcolor": "white",
          "plot_bgcolor": "white",
          "polar": {
           "angularaxis": {
            "gridcolor": "#EBF0F8",
            "linecolor": "#EBF0F8",
            "ticks": ""
           },
           "bgcolor": "white",
           "radialaxis": {
            "gridcolor": "#EBF0F8",
            "linecolor": "#EBF0F8",
            "ticks": ""
           }
          },
          "scene": {
           "xaxis": {
            "backgroundcolor": "white",
            "gridcolor": "#DFE8F3",
            "gridwidth": 2,
            "linecolor": "#EBF0F8",
            "showbackground": true,
            "ticks": "",
            "zerolinecolor": "#EBF0F8"
           },
           "yaxis": {
            "backgroundcolor": "white",
            "gridcolor": "#DFE8F3",
            "gridwidth": 2,
            "linecolor": "#EBF0F8",
            "showbackground": true,
            "ticks": "",
            "zerolinecolor": "#EBF0F8"
           },
           "zaxis": {
            "backgroundcolor": "white",
            "gridcolor": "#DFE8F3",
            "gridwidth": 2,
            "linecolor": "#EBF0F8",
            "showbackground": true,
            "ticks": "",
            "zerolinecolor": "#EBF0F8"
           }
          },
          "shapedefaults": {
           "line": {
            "color": "#2a3f5f"
           }
          },
          "ternary": {
           "aaxis": {
            "gridcolor": "#DFE8F3",
            "linecolor": "#A2B1C6",
            "ticks": ""
           },
           "baxis": {
            "gridcolor": "#DFE8F3",
            "linecolor": "#A2B1C6",
            "ticks": ""
           },
           "bgcolor": "white",
           "caxis": {
            "gridcolor": "#DFE8F3",
            "linecolor": "#A2B1C6",
            "ticks": ""
           }
          },
          "title": {
           "x": 0.05
          },
          "xaxis": {
           "automargin": true,
           "gridcolor": "#EBF0F8",
           "linecolor": "#EBF0F8",
           "ticks": "",
           "title": {
            "standoff": 15
           },
           "zerolinecolor": "#EBF0F8",
           "zerolinewidth": 2
          },
          "yaxis": {
           "automargin": true,
           "gridcolor": "#EBF0F8",
           "linecolor": "#EBF0F8",
           "ticks": "",
           "title": {
            "standoff": 15
           },
           "zerolinecolor": "#EBF0F8",
           "zerolinewidth": 2
          }
         }
        },
        "title": {
         "text": "Number of Complaints vs. Number of Recalls"
        },
        "xaxis": {
         "title": {
          "text": "Number of Complaints"
         }
        },
        "yaxis": {
         "title": {
          "text": "Number of Recalls"
         }
        }
       }
      }
     },
     "metadata": {},
     "output_type": "display_data"
    }
   ],
   "source": [
    "import pandas as pd\n",
    "import plotly.graph_objects as go\n",
    "\n",
    "# Aggregate data for complaints\n",
    "complaints_agg = complaints_df.groupby(['make', 'model']).size().reset_index(name='complaints_count')\n",
    "\n",
    "# Aggregate data for recalls\n",
    "recalls_agg = recalls_df.groupby(['make', 'model']).size().reset_index(name='recalls_count')\n",
    "\n",
    "# Merge the two datasets, filling missing recall counts with 0\n",
    "merged_data = pd.merge(complaints_agg, recalls_agg, on=['make', 'model'], how='left').fillna({'recalls_count': 0})\n",
    "\n",
    "# Create the scatter plot\n",
    "fig = go.Figure()\n",
    "\n",
    "fig.add_trace(go.Scatter(\n",
    "    x=merged_data['complaints_count'],\n",
    "    y=merged_data['recalls_count'],\n",
    "    mode='markers',\n",
    "    marker=dict(color='blue', opacity=0.7),\n",
    "    name='Complaints vs Recalls'\n",
    "))\n",
    "\n",
    "# Update layout\n",
    "fig.update_layout(\n",
    "    title=\"Number of Complaints vs. Number of Recalls\",\n",
    "    xaxis_title=\"Number of Complaints\",\n",
    "    yaxis_title=\"Number of Recalls\",\n",
    "    template=\"plotly_white\"\n",
    ")\n",
    "\n",
    "# Show the plot\n",
    "fig.show()\n"
   ]
  },
  {
   "cell_type": "code",
   "execution_count": 8,
   "metadata": {},
   "outputs": [
    {
     "data": {
      "application/vnd.plotly.v1+json": {
       "config": {
        "plotlyServerURL": "https://plot.ly"
       },
       "data": [
        {
         "marker": {
          "color": "blue",
          "opacity": 0.7
         },
         "mode": "markers",
         "name": "Complaints vs Any Recalls",
         "type": "scatter",
         "x": [
          4,
          222,
          432,
          76,
          1,
          2,
          1,
          1,
          10,
          6,
          1,
          1,
          1,
          1,
          1,
          24,
          24,
          1,
          6,
          4,
          9,
          9,
          36,
          36,
          8,
          2,
          2,
          2,
          3,
          55,
          17,
          8,
          16,
          17,
          1,
          1,
          1,
          3,
          3,
          3,
          5,
          1,
          1,
          1,
          1,
          3,
          8,
          1,
          36,
          4,
          2,
          12,
          2,
          2,
          16,
          2,
          2,
          1,
          1,
          1,
          1,
          21,
          2,
          1,
          1,
          1,
          1,
          1,
          7,
          1,
          6,
          5,
          2,
          3,
          20,
          2,
          112,
          56,
          56,
          8,
          8,
          74,
          8,
          20,
          3,
          56,
          24,
          86,
          20,
          2,
          2,
          4,
          20,
          4,
          4,
          8,
          12,
          16,
          22,
          52,
          1,
          15,
          2,
          5,
          2,
          164,
          138,
          30,
          30,
          30,
          204,
          48,
          362,
          6,
          6,
          6,
          6,
          6,
          9,
          121,
          1968,
          342,
          19,
          1,
          2,
          16,
          16,
          38,
          54,
          234,
          106,
          18,
          292,
          6,
          7,
          1,
          2,
          2,
          1,
          1,
          1,
          1,
          1,
          2,
          1,
          1,
          1,
          1,
          3,
          30,
          84,
          58,
          10,
          10,
          24,
          2,
          3,
          2,
          1,
          6,
          3,
          1,
          1,
          1,
          1,
          2,
          1,
          1,
          3,
          1,
          1,
          1,
          2,
          1,
          1,
          1,
          2,
          2,
          3,
          2,
          1,
          1,
          528,
          250,
          2728,
          20,
          10,
          450,
          1446,
          786,
          786,
          786,
          786,
          786,
          290,
          290,
          290,
          200,
          200,
          1,
          200,
          15,
          12,
          8,
          5,
          16,
          270,
          3,
          1,
          132,
          66,
          296,
          66,
          40,
          66,
          66,
          66,
          66,
          66,
          66,
          1,
          1,
          5,
          13,
          2,
          7,
          10,
          1,
          1,
          5,
          8,
          1,
          11,
          1,
          10,
          2,
          1,
          1,
          1,
          4,
          1,
          3,
          2,
          1,
          1,
          1,
          8,
          23,
          12,
          6,
          12,
          12,
          12,
          12,
          1,
          20,
          4,
          100,
          40,
          954,
          246,
          33,
          7,
          180,
          20,
          26,
          8,
          17,
          5,
          8,
          1,
          1,
          1,
          3,
          1,
          3,
          1,
          2,
          1,
          1,
          2,
          1,
          1,
          1,
          2,
          1,
          2,
          1,
          1,
          1,
          1,
          2,
          1,
          1,
          214,
          1,
          2,
          296,
          148,
          148,
          1,
          300,
          3,
          3,
          534,
          4,
          1,
          9,
          13,
          23,
          1,
          84,
          23,
          188,
          686,
          234,
          5,
          1,
          1,
          1,
          2,
          2,
          9,
          165,
          171,
          13,
          2,
          3,
          1,
          262,
          131,
          5,
          318,
          216,
          124,
          214,
          18,
          35,
          2,
          1,
          2,
          2,
          20,
          24,
          10,
          2,
          1,
          1,
          2,
          1,
          1,
          1,
          7,
          2,
          2,
          15,
          1,
          3,
          1,
          1,
          1,
          1,
          12,
          1,
          2,
          4,
          2,
          2,
          6,
          2,
          5,
          220,
          200,
          313,
          258,
          129,
          129,
          98,
          393,
          393,
          1,
          1,
          1,
          8,
          5,
          1,
          1,
          1,
          1,
          3,
          2,
          2,
          1,
          2,
          2,
          1,
          2,
          1,
          2,
          1,
          44,
          34,
          67,
          40,
          11,
          128,
          244,
          172,
          20,
          1036,
          1,
          1,
          2,
          3,
          2,
          2,
          11,
          6,
          2,
          1,
          1,
          1,
          1,
          1,
          4,
          4,
          34,
          11,
          7,
          32,
          9,
          19,
          9,
          7,
          7,
          1,
          5,
          2,
          1,
          4,
          2,
          1,
          1,
          26,
          6,
          1,
          2,
          62,
          14,
          26,
          24,
          2,
          2,
          1,
          142,
          12,
          62,
          2,
          28,
          28,
          28,
          5,
          1,
          1,
          2,
          2,
          1,
          2,
          1,
          2,
          50,
          124,
          16,
          104,
          2,
          1,
          2,
          18,
          116,
          58,
          32,
          12,
          52,
          26,
          22,
          1,
          12,
          92,
          102,
          98,
          46,
          150,
          23,
          4,
          4,
          4,
          6,
          6,
          20,
          10,
          3,
          1,
          1,
          4,
          5,
          5,
          140,
          70,
          140,
          140,
          140,
          140,
          11,
          1,
          6,
          3,
          1,
          10,
          5,
          6,
          4,
          34,
          46,
          1,
          3,
          3,
          2,
          1,
          3,
          1,
          1,
          242,
          32,
          32,
          57,
          27,
          27,
          17,
          70,
          1,
          1,
          66,
          224,
          70,
          160,
          60,
          15,
          35,
          1,
          1,
          1,
          1,
          3,
          2,
          1,
          1,
          1,
          1,
          1,
          1,
          1,
          1,
          1,
          1,
          1,
          1,
          1,
          1,
          10,
          10,
          11,
          10,
          10,
          11,
          10,
          10,
          11,
          1,
          5,
          5,
          5,
          5,
          5,
          69,
          1,
          1,
          1584,
          2376,
          690,
          102,
          2,
          6,
          17,
          2,
          1,
          1,
          1,
          1,
          3,
          1,
          1,
          3,
          2,
          287,
          2,
          55,
          556,
          156,
          114,
          853,
          13,
          3,
          1,
          1,
          728,
          70,
          105,
          105,
          105,
          238,
          1,
          2,
          1,
          1,
          1,
          2,
          2,
          3,
          3,
          4,
          3,
          1,
          2,
          1,
          2,
          4,
          1,
          2,
          4,
          58,
          1,
          9,
          7,
          168,
          4,
          3,
          300,
          6,
          1,
          24,
          14,
          1046,
          7,
          6,
          56,
          10,
          256,
          140,
          9,
          9,
          1,
          1,
          5,
          3,
          1,
          1,
          1,
          1,
          1,
          1,
          3,
          1,
          1,
          7,
          2,
          36,
          150,
          5,
          8,
          41,
          12,
          196,
          7,
          7,
          7,
          7,
          2,
          2,
          5,
          5,
          5,
          3,
          1,
          1,
          1,
          3,
          1,
          3,
          8,
          8,
          32,
          16,
          16,
          16,
          24,
          12,
          12,
          1,
          1,
          1,
          1,
          1,
          2,
          1,
          5,
          2,
          1,
          2,
          8,
          1,
          1,
          1,
          1,
          1,
          1
         ],
         "y": [
          1,
          1,
          1,
          1,
          1,
          1,
          1,
          1,
          1,
          1,
          0,
          0,
          1,
          0,
          1,
          1,
          0,
          0,
          1,
          1,
          1,
          0,
          1,
          0,
          1,
          1,
          0,
          0,
          1,
          1,
          1,
          0,
          1,
          1,
          0,
          1,
          1,
          1,
          0,
          1,
          1,
          0,
          1,
          0,
          0,
          1,
          0,
          0,
          0,
          0,
          0,
          0,
          1,
          0,
          0,
          0,
          0,
          1,
          0,
          1,
          0,
          1,
          1,
          1,
          1,
          1,
          0,
          0,
          1,
          1,
          1,
          1,
          1,
          1,
          1,
          1,
          1,
          0,
          0,
          1,
          0,
          1,
          1,
          1,
          1,
          1,
          1,
          1,
          0,
          1,
          0,
          1,
          1,
          1,
          0,
          1,
          1,
          1,
          1,
          1,
          0,
          1,
          0,
          1,
          0,
          1,
          1,
          1,
          0,
          0,
          0,
          1,
          1,
          0,
          0,
          0,
          0,
          0,
          0,
          1,
          1,
          1,
          1,
          1,
          1,
          0,
          0,
          0,
          1,
          1,
          0,
          1,
          1,
          1,
          1,
          0,
          0,
          1,
          1,
          0,
          0,
          1,
          1,
          1,
          1,
          1,
          1,
          0,
          0,
          1,
          1,
          1,
          0,
          0,
          0,
          0,
          0,
          1,
          1,
          0,
          0,
          1,
          1,
          1,
          0,
          1,
          1,
          1,
          1,
          1,
          1,
          1,
          1,
          0,
          1,
          1,
          1,
          1,
          1,
          1,
          1,
          0,
          1,
          1,
          1,
          0,
          0,
          1,
          1,
          0,
          0,
          0,
          0,
          0,
          0,
          0,
          0,
          0,
          0,
          1,
          0,
          1,
          1,
          1,
          1,
          1,
          1,
          0,
          0,
          1,
          0,
          1,
          1,
          1,
          0,
          0,
          0,
          0,
          0,
          0,
          1,
          1,
          1,
          1,
          0,
          1,
          1,
          0,
          1,
          1,
          1,
          0,
          1,
          1,
          1,
          0,
          0,
          1,
          0,
          1,
          1,
          1,
          1,
          1,
          1,
          1,
          1,
          1,
          0,
          0,
          0,
          0,
          0,
          0,
          0,
          1,
          1,
          1,
          0,
          1,
          1,
          1,
          0,
          1,
          1,
          1,
          1,
          1,
          1,
          1,
          1,
          0,
          0,
          1,
          1,
          1,
          1,
          1,
          1,
          1,
          1,
          1,
          1,
          0,
          1,
          1,
          1,
          1,
          1,
          0,
          1,
          0,
          1,
          1,
          1,
          1,
          0,
          1,
          0,
          0,
          0,
          0,
          0,
          0,
          1,
          1,
          1,
          0,
          0,
          1,
          1,
          1,
          1,
          1,
          1,
          1,
          0,
          1,
          0,
          1,
          1,
          1,
          1,
          1,
          0,
          0,
          1,
          0,
          0,
          1,
          1,
          1,
          1,
          1,
          1,
          1,
          1,
          1,
          1,
          0,
          0,
          1,
          1,
          1,
          1,
          0,
          1,
          1,
          1,
          1,
          0,
          0,
          0,
          1,
          0,
          1,
          1,
          1,
          1,
          1,
          0,
          1,
          1,
          0,
          1,
          0,
          1,
          1,
          1,
          0,
          1,
          1,
          1,
          1,
          1,
          0,
          0,
          1,
          1,
          0,
          0,
          0,
          1,
          1,
          1,
          0,
          0,
          1,
          1,
          1,
          1,
          1,
          1,
          1,
          0,
          1,
          1,
          1,
          0,
          0,
          0,
          0,
          0,
          1,
          1,
          1,
          1,
          1,
          1,
          1,
          0,
          1,
          0,
          1,
          0,
          1,
          1,
          1,
          1,
          1,
          1,
          1,
          1,
          1,
          1,
          1,
          1,
          1,
          1,
          0,
          0,
          1,
          0,
          1,
          1,
          0,
          0,
          0,
          0,
          0,
          0,
          0,
          0,
          0,
          0,
          0,
          0,
          0,
          0,
          0,
          0,
          0,
          0,
          0,
          1,
          1,
          1,
          0,
          1,
          1,
          0,
          0,
          0,
          1,
          1,
          1,
          1,
          0,
          0,
          1,
          1,
          0,
          1,
          1,
          0,
          1,
          1,
          0,
          0,
          0,
          0,
          0,
          0,
          0,
          0,
          0,
          0,
          0,
          0,
          0,
          0,
          0,
          0,
          0,
          0,
          0,
          0,
          0,
          0,
          0,
          0,
          0,
          0,
          1,
          0,
          0,
          0,
          0,
          0,
          0,
          0,
          0,
          1,
          1,
          1,
          1,
          1,
          1,
          0,
          0,
          0,
          1,
          1,
          1,
          1,
          1,
          1,
          1,
          1,
          1,
          1,
          1,
          0,
          0,
          0,
          1,
          0,
          1,
          1,
          0,
          0,
          0,
          1,
          1,
          1,
          1,
          1,
          1,
          0,
          0,
          1,
          1,
          1,
          1,
          1,
          1,
          1,
          0,
          0,
          0,
          0,
          0,
          1,
          0,
          0,
          0,
          0,
          0,
          1,
          0,
          0,
          0,
          1,
          1,
          1,
          1,
          1,
          1,
          1,
          0,
          0,
          0,
          0,
          1,
          1,
          0,
          1,
          0,
          1,
          1,
          1,
          1,
          1,
          0,
          1,
          1,
          0,
          1,
          1,
          1,
          1,
          1,
          1,
          1,
          0,
          0,
          0,
          1,
          1,
          1,
          1,
          0,
          0,
          0,
          1,
          0,
          0,
          0,
          0,
          1,
          1,
          1,
          1,
          1,
          1,
          1,
          1,
          1,
          1,
          1,
          1,
          1,
          0,
          1,
          1,
          1,
          1,
          1,
          1,
          1,
          0,
          1,
          1,
          1,
          1,
          1,
          1,
          1,
          0,
          0,
          1,
          1,
          1,
          1,
          1,
          1,
          1,
          1,
          1,
          0,
          1,
          0,
          1,
          1,
          1,
          0,
          0,
          1,
          1,
          0,
          0,
          0,
          1,
          0,
          0,
          1,
          1,
          1,
          0,
          1,
          1,
          1,
          0,
          0,
          0,
          0,
          0,
          0,
          0,
          0,
          0,
          1,
          0,
          0,
          0,
          1,
          1,
          1,
          0,
          0,
          0,
          0,
          0,
          0,
          0,
          0,
          0,
          0,
          1,
          1,
          0,
          1,
          1,
          1,
          1,
          1,
          0,
          1,
          1,
          1,
          1,
          0,
          0,
          1,
          1
         ]
        }
       ],
       "layout": {
        "template": {
         "data": {
          "bar": [
           {
            "error_x": {
             "color": "#2a3f5f"
            },
            "error_y": {
             "color": "#2a3f5f"
            },
            "marker": {
             "line": {
              "color": "white",
              "width": 0.5
             },
             "pattern": {
              "fillmode": "overlay",
              "size": 10,
              "solidity": 0.2
             }
            },
            "type": "bar"
           }
          ],
          "barpolar": [
           {
            "marker": {
             "line": {
              "color": "white",
              "width": 0.5
             },
             "pattern": {
              "fillmode": "overlay",
              "size": 10,
              "solidity": 0.2
             }
            },
            "type": "barpolar"
           }
          ],
          "carpet": [
           {
            "aaxis": {
             "endlinecolor": "#2a3f5f",
             "gridcolor": "#C8D4E3",
             "linecolor": "#C8D4E3",
             "minorgridcolor": "#C8D4E3",
             "startlinecolor": "#2a3f5f"
            },
            "baxis": {
             "endlinecolor": "#2a3f5f",
             "gridcolor": "#C8D4E3",
             "linecolor": "#C8D4E3",
             "minorgridcolor": "#C8D4E3",
             "startlinecolor": "#2a3f5f"
            },
            "type": "carpet"
           }
          ],
          "choropleth": [
           {
            "colorbar": {
             "outlinewidth": 0,
             "ticks": ""
            },
            "type": "choropleth"
           }
          ],
          "contour": [
           {
            "colorbar": {
             "outlinewidth": 0,
             "ticks": ""
            },
            "colorscale": [
             [
              0,
              "#0d0887"
             ],
             [
              0.1111111111111111,
              "#46039f"
             ],
             [
              0.2222222222222222,
              "#7201a8"
             ],
             [
              0.3333333333333333,
              "#9c179e"
             ],
             [
              0.4444444444444444,
              "#bd3786"
             ],
             [
              0.5555555555555556,
              "#d8576b"
             ],
             [
              0.6666666666666666,
              "#ed7953"
             ],
             [
              0.7777777777777778,
              "#fb9f3a"
             ],
             [
              0.8888888888888888,
              "#fdca26"
             ],
             [
              1,
              "#f0f921"
             ]
            ],
            "type": "contour"
           }
          ],
          "contourcarpet": [
           {
            "colorbar": {
             "outlinewidth": 0,
             "ticks": ""
            },
            "type": "contourcarpet"
           }
          ],
          "heatmap": [
           {
            "colorbar": {
             "outlinewidth": 0,
             "ticks": ""
            },
            "colorscale": [
             [
              0,
              "#0d0887"
             ],
             [
              0.1111111111111111,
              "#46039f"
             ],
             [
              0.2222222222222222,
              "#7201a8"
             ],
             [
              0.3333333333333333,
              "#9c179e"
             ],
             [
              0.4444444444444444,
              "#bd3786"
             ],
             [
              0.5555555555555556,
              "#d8576b"
             ],
             [
              0.6666666666666666,
              "#ed7953"
             ],
             [
              0.7777777777777778,
              "#fb9f3a"
             ],
             [
              0.8888888888888888,
              "#fdca26"
             ],
             [
              1,
              "#f0f921"
             ]
            ],
            "type": "heatmap"
           }
          ],
          "heatmapgl": [
           {
            "colorbar": {
             "outlinewidth": 0,
             "ticks": ""
            },
            "colorscale": [
             [
              0,
              "#0d0887"
             ],
             [
              0.1111111111111111,
              "#46039f"
             ],
             [
              0.2222222222222222,
              "#7201a8"
             ],
             [
              0.3333333333333333,
              "#9c179e"
             ],
             [
              0.4444444444444444,
              "#bd3786"
             ],
             [
              0.5555555555555556,
              "#d8576b"
             ],
             [
              0.6666666666666666,
              "#ed7953"
             ],
             [
              0.7777777777777778,
              "#fb9f3a"
             ],
             [
              0.8888888888888888,
              "#fdca26"
             ],
             [
              1,
              "#f0f921"
             ]
            ],
            "type": "heatmapgl"
           }
          ],
          "histogram": [
           {
            "marker": {
             "pattern": {
              "fillmode": "overlay",
              "size": 10,
              "solidity": 0.2
             }
            },
            "type": "histogram"
           }
          ],
          "histogram2d": [
           {
            "colorbar": {
             "outlinewidth": 0,
             "ticks": ""
            },
            "colorscale": [
             [
              0,
              "#0d0887"
             ],
             [
              0.1111111111111111,
              "#46039f"
             ],
             [
              0.2222222222222222,
              "#7201a8"
             ],
             [
              0.3333333333333333,
              "#9c179e"
             ],
             [
              0.4444444444444444,
              "#bd3786"
             ],
             [
              0.5555555555555556,
              "#d8576b"
             ],
             [
              0.6666666666666666,
              "#ed7953"
             ],
             [
              0.7777777777777778,
              "#fb9f3a"
             ],
             [
              0.8888888888888888,
              "#fdca26"
             ],
             [
              1,
              "#f0f921"
             ]
            ],
            "type": "histogram2d"
           }
          ],
          "histogram2dcontour": [
           {
            "colorbar": {
             "outlinewidth": 0,
             "ticks": ""
            },
            "colorscale": [
             [
              0,
              "#0d0887"
             ],
             [
              0.1111111111111111,
              "#46039f"
             ],
             [
              0.2222222222222222,
              "#7201a8"
             ],
             [
              0.3333333333333333,
              "#9c179e"
             ],
             [
              0.4444444444444444,
              "#bd3786"
             ],
             [
              0.5555555555555556,
              "#d8576b"
             ],
             [
              0.6666666666666666,
              "#ed7953"
             ],
             [
              0.7777777777777778,
              "#fb9f3a"
             ],
             [
              0.8888888888888888,
              "#fdca26"
             ],
             [
              1,
              "#f0f921"
             ]
            ],
            "type": "histogram2dcontour"
           }
          ],
          "mesh3d": [
           {
            "colorbar": {
             "outlinewidth": 0,
             "ticks": ""
            },
            "type": "mesh3d"
           }
          ],
          "parcoords": [
           {
            "line": {
             "colorbar": {
              "outlinewidth": 0,
              "ticks": ""
             }
            },
            "type": "parcoords"
           }
          ],
          "pie": [
           {
            "automargin": true,
            "type": "pie"
           }
          ],
          "scatter": [
           {
            "fillpattern": {
             "fillmode": "overlay",
             "size": 10,
             "solidity": 0.2
            },
            "type": "scatter"
           }
          ],
          "scatter3d": [
           {
            "line": {
             "colorbar": {
              "outlinewidth": 0,
              "ticks": ""
             }
            },
            "marker": {
             "colorbar": {
              "outlinewidth": 0,
              "ticks": ""
             }
            },
            "type": "scatter3d"
           }
          ],
          "scattercarpet": [
           {
            "marker": {
             "colorbar": {
              "outlinewidth": 0,
              "ticks": ""
             }
            },
            "type": "scattercarpet"
           }
          ],
          "scattergeo": [
           {
            "marker": {
             "colorbar": {
              "outlinewidth": 0,
              "ticks": ""
             }
            },
            "type": "scattergeo"
           }
          ],
          "scattergl": [
           {
            "marker": {
             "colorbar": {
              "outlinewidth": 0,
              "ticks": ""
             }
            },
            "type": "scattergl"
           }
          ],
          "scattermapbox": [
           {
            "marker": {
             "colorbar": {
              "outlinewidth": 0,
              "ticks": ""
             }
            },
            "type": "scattermapbox"
           }
          ],
          "scatterpolar": [
           {
            "marker": {
             "colorbar": {
              "outlinewidth": 0,
              "ticks": ""
             }
            },
            "type": "scatterpolar"
           }
          ],
          "scatterpolargl": [
           {
            "marker": {
             "colorbar": {
              "outlinewidth": 0,
              "ticks": ""
             }
            },
            "type": "scatterpolargl"
           }
          ],
          "scatterternary": [
           {
            "marker": {
             "colorbar": {
              "outlinewidth": 0,
              "ticks": ""
             }
            },
            "type": "scatterternary"
           }
          ],
          "surface": [
           {
            "colorbar": {
             "outlinewidth": 0,
             "ticks": ""
            },
            "colorscale": [
             [
              0,
              "#0d0887"
             ],
             [
              0.1111111111111111,
              "#46039f"
             ],
             [
              0.2222222222222222,
              "#7201a8"
             ],
             [
              0.3333333333333333,
              "#9c179e"
             ],
             [
              0.4444444444444444,
              "#bd3786"
             ],
             [
              0.5555555555555556,
              "#d8576b"
             ],
             [
              0.6666666666666666,
              "#ed7953"
             ],
             [
              0.7777777777777778,
              "#fb9f3a"
             ],
             [
              0.8888888888888888,
              "#fdca26"
             ],
             [
              1,
              "#f0f921"
             ]
            ],
            "type": "surface"
           }
          ],
          "table": [
           {
            "cells": {
             "fill": {
              "color": "#EBF0F8"
             },
             "line": {
              "color": "white"
             }
            },
            "header": {
             "fill": {
              "color": "#C8D4E3"
             },
             "line": {
              "color": "white"
             }
            },
            "type": "table"
           }
          ]
         },
         "layout": {
          "annotationdefaults": {
           "arrowcolor": "#2a3f5f",
           "arrowhead": 0,
           "arrowwidth": 1
          },
          "autotypenumbers": "strict",
          "coloraxis": {
           "colorbar": {
            "outlinewidth": 0,
            "ticks": ""
           }
          },
          "colorscale": {
           "diverging": [
            [
             0,
             "#8e0152"
            ],
            [
             0.1,
             "#c51b7d"
            ],
            [
             0.2,
             "#de77ae"
            ],
            [
             0.3,
             "#f1b6da"
            ],
            [
             0.4,
             "#fde0ef"
            ],
            [
             0.5,
             "#f7f7f7"
            ],
            [
             0.6,
             "#e6f5d0"
            ],
            [
             0.7,
             "#b8e186"
            ],
            [
             0.8,
             "#7fbc41"
            ],
            [
             0.9,
             "#4d9221"
            ],
            [
             1,
             "#276419"
            ]
           ],
           "sequential": [
            [
             0,
             "#0d0887"
            ],
            [
             0.1111111111111111,
             "#46039f"
            ],
            [
             0.2222222222222222,
             "#7201a8"
            ],
            [
             0.3333333333333333,
             "#9c179e"
            ],
            [
             0.4444444444444444,
             "#bd3786"
            ],
            [
             0.5555555555555556,
             "#d8576b"
            ],
            [
             0.6666666666666666,
             "#ed7953"
            ],
            [
             0.7777777777777778,
             "#fb9f3a"
            ],
            [
             0.8888888888888888,
             "#fdca26"
            ],
            [
             1,
             "#f0f921"
            ]
           ],
           "sequentialminus": [
            [
             0,
             "#0d0887"
            ],
            [
             0.1111111111111111,
             "#46039f"
            ],
            [
             0.2222222222222222,
             "#7201a8"
            ],
            [
             0.3333333333333333,
             "#9c179e"
            ],
            [
             0.4444444444444444,
             "#bd3786"
            ],
            [
             0.5555555555555556,
             "#d8576b"
            ],
            [
             0.6666666666666666,
             "#ed7953"
            ],
            [
             0.7777777777777778,
             "#fb9f3a"
            ],
            [
             0.8888888888888888,
             "#fdca26"
            ],
            [
             1,
             "#f0f921"
            ]
           ]
          },
          "colorway": [
           "#636efa",
           "#EF553B",
           "#00cc96",
           "#ab63fa",
           "#FFA15A",
           "#19d3f3",
           "#FF6692",
           "#B6E880",
           "#FF97FF",
           "#FECB52"
          ],
          "font": {
           "color": "#2a3f5f"
          },
          "geo": {
           "bgcolor": "white",
           "lakecolor": "white",
           "landcolor": "white",
           "showlakes": true,
           "showland": true,
           "subunitcolor": "#C8D4E3"
          },
          "hoverlabel": {
           "align": "left"
          },
          "hovermode": "closest",
          "mapbox": {
           "style": "light"
          },
          "paper_bgcolor": "white",
          "plot_bgcolor": "white",
          "polar": {
           "angularaxis": {
            "gridcolor": "#EBF0F8",
            "linecolor": "#EBF0F8",
            "ticks": ""
           },
           "bgcolor": "white",
           "radialaxis": {
            "gridcolor": "#EBF0F8",
            "linecolor": "#EBF0F8",
            "ticks": ""
           }
          },
          "scene": {
           "xaxis": {
            "backgroundcolor": "white",
            "gridcolor": "#DFE8F3",
            "gridwidth": 2,
            "linecolor": "#EBF0F8",
            "showbackground": true,
            "ticks": "",
            "zerolinecolor": "#EBF0F8"
           },
           "yaxis": {
            "backgroundcolor": "white",
            "gridcolor": "#DFE8F3",
            "gridwidth": 2,
            "linecolor": "#EBF0F8",
            "showbackground": true,
            "ticks": "",
            "zerolinecolor": "#EBF0F8"
           },
           "zaxis": {
            "backgroundcolor": "white",
            "gridcolor": "#DFE8F3",
            "gridwidth": 2,
            "linecolor": "#EBF0F8",
            "showbackground": true,
            "ticks": "",
            "zerolinecolor": "#EBF0F8"
           }
          },
          "shapedefaults": {
           "line": {
            "color": "#2a3f5f"
           }
          },
          "ternary": {
           "aaxis": {
            "gridcolor": "#DFE8F3",
            "linecolor": "#A2B1C6",
            "ticks": ""
           },
           "baxis": {
            "gridcolor": "#DFE8F3",
            "linecolor": "#A2B1C6",
            "ticks": ""
           },
           "bgcolor": "white",
           "caxis": {
            "gridcolor": "#DFE8F3",
            "linecolor": "#A2B1C6",
            "ticks": ""
           }
          },
          "title": {
           "x": 0.05
          },
          "xaxis": {
           "automargin": true,
           "gridcolor": "#EBF0F8",
           "linecolor": "#EBF0F8",
           "ticks": "",
           "title": {
            "standoff": 15
           },
           "zerolinecolor": "#EBF0F8",
           "zerolinewidth": 2
          },
          "yaxis": {
           "automargin": true,
           "gridcolor": "#EBF0F8",
           "linecolor": "#EBF0F8",
           "ticks": "",
           "title": {
            "standoff": 15
           },
           "zerolinecolor": "#EBF0F8",
           "zerolinewidth": 2
          }
         }
        },
        "title": {
         "text": "Likelihood of Any Recalls vs. Number of Complaints"
        },
        "xaxis": {
         "title": {
          "text": "Number of Complaints"
         }
        },
        "yaxis": {
         "title": {
          "text": "Any Recalls (Binary)"
         }
        }
       }
      }
     },
     "metadata": {},
     "output_type": "display_data"
    }
   ],
   "source": [
    "# Aggregate data for complaints\n",
    "complaints_agg = complaints_df.groupby(['make', 'model']).size().reset_index(name='complaints_count')\n",
    "\n",
    "# Aggregate data for recalls and create binary recall indicator\n",
    "recalls_agg = recalls_df.groupby(['make', 'model']).size().reset_index(name='recalls_count')\n",
    "recalls_agg['any_recalls'] = (recalls_agg['recalls_count'] > 0).astype(int)\n",
    "\n",
    "# Merge the two datasets, filling missing recall counts with 0\n",
    "merged_data = pd.merge(complaints_agg, recalls_agg[['make', 'model', 'any_recalls']], on=['make', 'model'], how='left').fillna({'any_recalls': 0})\n",
    "\n",
    "# Create the scatter plot\n",
    "fig = go.Figure()\n",
    "\n",
    "fig.add_trace(go.Scatter(\n",
    "    x=merged_data['complaints_count'],\n",
    "    y=merged_data['any_recalls'],\n",
    "    mode='markers',\n",
    "    marker=dict(color='blue', opacity=0.7),\n",
    "    name='Complaints vs Any Recalls'\n",
    "))\n",
    "\n",
    "# Update layout\n",
    "fig.update_layout(\n",
    "    title=\"Likelihood of Any Recalls vs. Number of Complaints\",\n",
    "    xaxis_title=\"Number of Complaints\",\n",
    "    yaxis_title=\"Any Recalls (Binary)\",\n",
    "    template=\"plotly_white\"\n",
    ")\n",
    "\n",
    "# Show the plot\n",
    "fig.show()"
   ]
  },
  {
   "cell_type": "code",
   "execution_count": null,
   "metadata": {},
   "outputs": [],
   "source": []
  },
  {
   "cell_type": "markdown",
   "metadata": {},
   "source": [
    "## Recall Prediction"
   ]
  },
  {
   "cell_type": "code",
   "execution_count": 9,
   "metadata": {},
   "outputs": [
    {
     "name": "stdout",
     "output_type": "stream",
     "text": [
      "Logistic Regression Performance:\n",
      "Accuracy: 0.5310\n",
      "Precision: 0.5310\n",
      "Recall: 1.0000\n",
      "F1 Score: 0.6937\n",
      "AUC-ROC: 0.5000\n",
      "\n",
      "XGBoost Performance:\n",
      "Accuracy: 0.5241\n",
      "Precision: 0.5333\n",
      "Recall: 0.8312\n",
      "F1 Score: 0.6497\n",
      "AUC-ROC: 0.5038\n"
     ]
    }
   ],
   "source": [
    "import xgboost as xgb\n",
    "from sklearn.model_selection import train_test_split\n",
    "from sklearn.linear_model import LogisticRegression\n",
    "from sklearn.metrics import accuracy_score, precision_score, recall_score, roc_auc_score, f1_score\n",
    "\n",
    "# Aggregate data for recalls and create binary recall indicator\n",
    "recalls_agg = recalls_df.groupby(['make', 'model']).size().reset_index(name='recalls_count')\n",
    "recalls_agg['any_recalls'] = (recalls_agg['recalls_count'] > 0).astype(int)\n",
    "\n",
    "# Merge the two datasets, filling missing recall counts with 0\n",
    "merged_data = pd.merge(complaints_agg, recalls_agg[['make', 'model', 'any_recalls']], on=['make', 'model'], how='left').fillna({'any_recalls': 0})\n",
    "\n",
    "# Prepare features and target\n",
    "X = merged_data[['complaints_count']]\n",
    "y = merged_data['any_recalls']\n",
    "\n",
    "# Split the data into training and testing sets\n",
    "X_train, X_test, y_train, y_test = train_test_split(X, y, test_size=0.2, random_state=42)\n",
    "\n",
    "# Logistic Regression Baseline\n",
    "log_reg = LogisticRegression()\n",
    "log_reg.fit(X_train, y_train)\n",
    "y_pred_log = log_reg.predict(X_test)\n",
    "\n",
    "# XGBoost Model\n",
    "xgb_model = xgb.XGBClassifier(eval_metric='logloss', random_state=42)\n",
    "xgb_model.fit(X_train, y_train)\n",
    "y_pred_xgb = xgb_model.predict(X_test)\n",
    "\n",
    "# Evaluate performance\n",
    "metrics = {\n",
    "    \"Accuracy\": accuracy_score,\n",
    "    \"Precision\": precision_score,\n",
    "    \"Recall\": recall_score,\n",
    "    \"F1 Score\": f1_score,\n",
    "    \"AUC-ROC\": roc_auc_score\n",
    "}\n",
    "\n",
    "print(\"Logistic Regression Performance:\")\n",
    "for metric_name, metric_func in metrics.items():\n",
    "    print(f\"{metric_name}: {metric_func(y_test, y_pred_log):.4f}\")\n",
    "\n",
    "print(\"\\nXGBoost Performance:\")\n",
    "for metric_name, metric_func in metrics.items():\n",
    "    print(f\"{metric_name}: {metric_func(y_test, y_pred_xgb):.4f}\")\n"
   ]
  },
  {
   "cell_type": "code",
   "execution_count": null,
   "metadata": {},
   "outputs": [],
   "source": []
  }
 ],
 "metadata": {
  "kernelspec": {
   "display_name": "venv",
   "language": "python",
   "name": "python3"
  },
  "language_info": {
   "codemirror_mode": {
    "name": "ipython",
    "version": 3
   },
   "file_extension": ".py",
   "mimetype": "text/x-python",
   "name": "python",
   "nbconvert_exporter": "python",
   "pygments_lexer": "ipython3",
   "version": "3.11.5"
  }
 },
 "nbformat": 4,
 "nbformat_minor": 2
}
